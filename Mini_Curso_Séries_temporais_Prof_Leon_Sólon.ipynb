{
  "nbformat": 4,
  "nbformat_minor": 0,
  "metadata": {
    "colab": {
      "name": "Mini-Curso-Séries_temporais_Prof.Leon_Sólon.ipynb",
      "provenance": [],
      "authorship_tag": "ABX9TyPt+FB78tQORIRWuw5i9qio",
      "include_colab_link": true
    },
    "kernelspec": {
      "name": "python3",
      "display_name": "Python 3"
    },
    "language_info": {
      "name": "python"
    }
  },
  "cells": [
    {
      "cell_type": "markdown",
      "metadata": {
        "id": "view-in-github",
        "colab_type": "text"
      },
      "source": [
        "<a href=\"https://colab.research.google.com/github/Zaine-eng/Projetos-Machine_Learning/blob/main/Mini_Curso_S%C3%A9ries_temporais_Prof_Leon_S%C3%B3lon.ipynb\" target=\"_parent\"><img src=\"https://colab.research.google.com/assets/colab-badge.svg\" alt=\"Open In Colab\"/></a>"
      ]
    },
    {
      "cell_type": "markdown",
      "source": [
        "# **1. Séries temporais**\n"
      ],
      "metadata": {
        "id": "CSdyfOeDIC1j"
      }
    },
    {
      "cell_type": "markdown",
      "source": [
        "Prof.: Leon Sólon "
      ],
      "metadata": {
        "id": "lSg5_aSvILay"
      }
    },
    {
      "cell_type": "markdown",
      "source": [
        "Primeiro é preciso configurar o Colab para visualizar a base de dados a partir do Kaggle."
      ],
      "metadata": {
        "id": "elXnV6lMYv4Y"
      }
    },
    {
      "cell_type": "code",
      "source": [
        "#install Kaggle\n",
        "!pip install -q kaggle"
      ],
      "metadata": {
        "id": "DFxpOYbhY5MW"
      },
      "execution_count": 10,
      "outputs": []
    },
    {
      "cell_type": "markdown",
      "source": [
        "lembre-se que ao gerar o código abaixo você deve procurar o arquivo API, vá na sua conta Kaggle e baixe, para ter acesso ao dataset."
      ],
      "metadata": {
        "id": "rorRp87ZaM8e"
      }
    },
    {
      "cell_type": "markdown",
      "source": [
        "![image.png](data:image/png;base64,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)"
      ],
      "metadata": {
        "id": "3xrIXY12sK9C"
      }
    },
    {
      "cell_type": "markdown",
      "source": [
        "## Configurando o Colab com API do Kaggle"
      ],
      "metadata": {
        "id": "1FdRGen1eWtL"
      }
    },
    {
      "cell_type": "code",
      "source": [
        "#criação de pasta kaggle\n",
        "\n",
        "! mkdir ~/.kaggle"
      ],
      "metadata": {
        "colab": {
          "base_uri": "https://localhost:8080/",
          "height": 0
        },
        "id": "McKlVH_vak-6",
        "outputId": "9d917264-b3de-4fe5-ea42-991c66134a4f"
      },
      "execution_count": 12,
      "outputs": [
        {
          "output_type": "stream",
          "name": "stdout",
          "text": [
            "mkdir: cannot create directory ‘/root/.kaggle’: File exists\n"
          ]
        }
      ]
    },
    {
      "cell_type": "code",
      "source": [
        "# cópia do kaggle.json na pasta kaggle\n",
        "\n",
        "! cp kaggle.json ~/.kaggle/"
      ],
      "metadata": {
        "id": "4VfIXYg2a8DX"
      },
      "execution_count": 13,
      "outputs": []
    },
    {
      "cell_type": "code",
      "source": [
        "# permissão colab/kaggle\n",
        "! chmod 600 ~/.kaggle/kaggle.json\n"
      ],
      "metadata": {
        "id": "bhoabqd0bqpt"
      },
      "execution_count": 14,
      "outputs": []
    },
    {
      "cell_type": "code",
      "source": [
        "import kaggle"
      ],
      "metadata": {
        "id": "T2wE9Bjwcb0f"
      },
      "execution_count": 16,
      "outputs": []
    },
    {
      "cell_type": "code",
      "source": [
        "import pandas as pd \n",
        "import numpy as np \n",
        "from matplotlib import pyplot as plt"
      ],
      "metadata": {
        "id": "QhsQAkJhcf3D"
      },
      "execution_count": 17,
      "outputs": []
    },
    {
      "cell_type": "code",
      "source": [
        "from pmdarima import auto_arima\n",
        "from statsmodels.tsa.arima.model import ARIMA\n",
        "\n",
        "from xgboost import XGBRegressor"
      ],
      "metadata": {
        "id": "defe138XdGZx"
      },
      "execution_count": 20,
      "outputs": []
    },
    {
      "cell_type": "code",
      "source": [
        "kaggle.api.authenticate()"
      ],
      "metadata": {
        "id": "65xj1638dnHf"
      },
      "execution_count": 21,
      "outputs": []
    },
    {
      "cell_type": "code",
      "source": [
        "kaggle.api.dataset_download_files('shenba/time-series-datasets', path= './data', unzip= True)"
      ],
      "metadata": {
        "id": "a6Ifoti5dtSN"
      },
      "execution_count": 22,
      "outputs": []
    },
    {
      "cell_type": "code",
      "source": [
        "df = pd.read_csv('./data/Electric_Production.csv', index_col='DATE', parse_dates= True)\n",
        "df.head()"
      ],
      "metadata": {
        "colab": {
          "base_uri": "https://localhost:8080/",
          "height": 238
        },
        "id": "iIdUIsacfNVG",
        "outputId": "a9e1aacf-4fe1-4a08-dfac-d320fdc34fa6"
      },
      "execution_count": 23,
      "outputs": [
        {
          "output_type": "execute_result",
          "data": {
            "text/plain": [
              "            IPG2211A2N\n",
              "DATE                  \n",
              "1985-01-01     72.5052\n",
              "1985-02-01     70.6720\n",
              "1985-03-01     62.4502\n",
              "1985-04-01     57.4714\n",
              "1985-05-01     55.3151"
            ],
            "text/html": [
              "\n",
              "  <div id=\"df-11936584-8c0d-4c8d-9286-d9c7a803d2e5\">\n",
              "    <div class=\"colab-df-container\">\n",
              "      <div>\n",
              "<style scoped>\n",
              "    .dataframe tbody tr th:only-of-type {\n",
              "        vertical-align: middle;\n",
              "    }\n",
              "\n",
              "    .dataframe tbody tr th {\n",
              "        vertical-align: top;\n",
              "    }\n",
              "\n",
              "    .dataframe thead th {\n",
              "        text-align: right;\n",
              "    }\n",
              "</style>\n",
              "<table border=\"1\" class=\"dataframe\">\n",
              "  <thead>\n",
              "    <tr style=\"text-align: right;\">\n",
              "      <th></th>\n",
              "      <th>IPG2211A2N</th>\n",
              "    </tr>\n",
              "    <tr>\n",
              "      <th>DATE</th>\n",
              "      <th></th>\n",
              "    </tr>\n",
              "  </thead>\n",
              "  <tbody>\n",
              "    <tr>\n",
              "      <th>1985-01-01</th>\n",
              "      <td>72.5052</td>\n",
              "    </tr>\n",
              "    <tr>\n",
              "      <th>1985-02-01</th>\n",
              "      <td>70.6720</td>\n",
              "    </tr>\n",
              "    <tr>\n",
              "      <th>1985-03-01</th>\n",
              "      <td>62.4502</td>\n",
              "    </tr>\n",
              "    <tr>\n",
              "      <th>1985-04-01</th>\n",
              "      <td>57.4714</td>\n",
              "    </tr>\n",
              "    <tr>\n",
              "      <th>1985-05-01</th>\n",
              "      <td>55.3151</td>\n",
              "    </tr>\n",
              "  </tbody>\n",
              "</table>\n",
              "</div>\n",
              "      <button class=\"colab-df-convert\" onclick=\"convertToInteractive('df-11936584-8c0d-4c8d-9286-d9c7a803d2e5')\"\n",
              "              title=\"Convert this dataframe to an interactive table.\"\n",
              "              style=\"display:none;\">\n",
              "        \n",
              "  <svg xmlns=\"http://www.w3.org/2000/svg\" height=\"24px\"viewBox=\"0 0 24 24\"\n",
              "       width=\"24px\">\n",
              "    <path d=\"M0 0h24v24H0V0z\" fill=\"none\"/>\n",
              "    <path d=\"M18.56 5.44l.94 2.06.94-2.06 2.06-.94-2.06-.94-.94-2.06-.94 2.06-2.06.94zm-11 1L8.5 8.5l.94-2.06 2.06-.94-2.06-.94L8.5 2.5l-.94 2.06-2.06.94zm10 10l.94 2.06.94-2.06 2.06-.94-2.06-.94-.94-2.06-.94 2.06-2.06.94z\"/><path d=\"M17.41 7.96l-1.37-1.37c-.4-.4-.92-.59-1.43-.59-.52 0-1.04.2-1.43.59L10.3 9.45l-7.72 7.72c-.78.78-.78 2.05 0 2.83L4 21.41c.39.39.9.59 1.41.59.51 0 1.02-.2 1.41-.59l7.78-7.78 2.81-2.81c.8-.78.8-2.07 0-2.86zM5.41 20L4 18.59l7.72-7.72 1.47 1.35L5.41 20z\"/>\n",
              "  </svg>\n",
              "      </button>\n",
              "      \n",
              "  <style>\n",
              "    .colab-df-container {\n",
              "      display:flex;\n",
              "      flex-wrap:wrap;\n",
              "      gap: 12px;\n",
              "    }\n",
              "\n",
              "    .colab-df-convert {\n",
              "      background-color: #E8F0FE;\n",
              "      border: none;\n",
              "      border-radius: 50%;\n",
              "      cursor: pointer;\n",
              "      display: none;\n",
              "      fill: #1967D2;\n",
              "      height: 32px;\n",
              "      padding: 0 0 0 0;\n",
              "      width: 32px;\n",
              "    }\n",
              "\n",
              "    .colab-df-convert:hover {\n",
              "      background-color: #E2EBFA;\n",
              "      box-shadow: 0px 1px 2px rgba(60, 64, 67, 0.3), 0px 1px 3px 1px rgba(60, 64, 67, 0.15);\n",
              "      fill: #174EA6;\n",
              "    }\n",
              "\n",
              "    [theme=dark] .colab-df-convert {\n",
              "      background-color: #3B4455;\n",
              "      fill: #D2E3FC;\n",
              "    }\n",
              "\n",
              "    [theme=dark] .colab-df-convert:hover {\n",
              "      background-color: #434B5C;\n",
              "      box-shadow: 0px 1px 3px 1px rgba(0, 0, 0, 0.15);\n",
              "      filter: drop-shadow(0px 1px 2px rgba(0, 0, 0, 0.3));\n",
              "      fill: #FFFFFF;\n",
              "    }\n",
              "  </style>\n",
              "\n",
              "      <script>\n",
              "        const buttonEl =\n",
              "          document.querySelector('#df-11936584-8c0d-4c8d-9286-d9c7a803d2e5 button.colab-df-convert');\n",
              "        buttonEl.style.display =\n",
              "          google.colab.kernel.accessAllowed ? 'block' : 'none';\n",
              "\n",
              "        async function convertToInteractive(key) {\n",
              "          const element = document.querySelector('#df-11936584-8c0d-4c8d-9286-d9c7a803d2e5');\n",
              "          const dataTable =\n",
              "            await google.colab.kernel.invokeFunction('convertToInteractive',\n",
              "                                                     [key], {});\n",
              "          if (!dataTable) return;\n",
              "\n",
              "          const docLinkHtml = 'Like what you see? Visit the ' +\n",
              "            '<a target=\"_blank\" href=https://colab.research.google.com/notebooks/data_table.ipynb>data table notebook</a>'\n",
              "            + ' to learn more about interactive tables.';\n",
              "          element.innerHTML = '';\n",
              "          dataTable['output_type'] = 'display_data';\n",
              "          await google.colab.output.renderOutput(dataTable, element);\n",
              "          const docLink = document.createElement('div');\n",
              "          docLink.innerHTML = docLinkHtml;\n",
              "          element.appendChild(docLink);\n",
              "        }\n",
              "      </script>\n",
              "    </div>\n",
              "  </div>\n",
              "  "
            ]
          },
          "metadata": {},
          "execution_count": 23
        }
      ]
    },
    {
      "cell_type": "markdown",
      "source": [
        "Quantas linhas e colunas estamos trabalhando nesta base de dados? "
      ],
      "metadata": {
        "id": "rwrQKYUvgG4c"
      }
    },
    {
      "cell_type": "code",
      "source": [
        "df.shape"
      ],
      "metadata": {
        "colab": {
          "base_uri": "https://localhost:8080/",
          "height": 0
        },
        "id": "-MGUceh1gMeH",
        "outputId": "9df2349a-7568-4925-818e-c6f7e1f3104e"
      },
      "execution_count": 24,
      "outputs": [
        {
          "output_type": "execute_result",
          "data": {
            "text/plain": [
              "(397, 1)"
            ]
          },
          "metadata": {},
          "execution_count": 24
        }
      ]
    },
    {
      "cell_type": "code",
      "source": [
        "df.describe()"
      ],
      "metadata": {
        "colab": {
          "base_uri": "https://localhost:8080/",
          "height": 300
        },
        "id": "YQ-lIupngYVk",
        "outputId": "3e27234a-2e18-4287-fe32-528141e787ac"
      },
      "execution_count": 25,
      "outputs": [
        {
          "output_type": "execute_result",
          "data": {
            "text/plain": [
              "       IPG2211A2N\n",
              "count  397.000000\n",
              "mean    88.847218\n",
              "std     15.387834\n",
              "min     55.315100\n",
              "25%     77.105200\n",
              "50%     89.779500\n",
              "75%    100.524400\n",
              "max    129.404800"
            ],
            "text/html": [
              "\n",
              "  <div id=\"df-7d9f350f-b6db-4485-b832-0d74c05ac17a\">\n",
              "    <div class=\"colab-df-container\">\n",
              "      <div>\n",
              "<style scoped>\n",
              "    .dataframe tbody tr th:only-of-type {\n",
              "        vertical-align: middle;\n",
              "    }\n",
              "\n",
              "    .dataframe tbody tr th {\n",
              "        vertical-align: top;\n",
              "    }\n",
              "\n",
              "    .dataframe thead th {\n",
              "        text-align: right;\n",
              "    }\n",
              "</style>\n",
              "<table border=\"1\" class=\"dataframe\">\n",
              "  <thead>\n",
              "    <tr style=\"text-align: right;\">\n",
              "      <th></th>\n",
              "      <th>IPG2211A2N</th>\n",
              "    </tr>\n",
              "  </thead>\n",
              "  <tbody>\n",
              "    <tr>\n",
              "      <th>count</th>\n",
              "      <td>397.000000</td>\n",
              "    </tr>\n",
              "    <tr>\n",
              "      <th>mean</th>\n",
              "      <td>88.847218</td>\n",
              "    </tr>\n",
              "    <tr>\n",
              "      <th>std</th>\n",
              "      <td>15.387834</td>\n",
              "    </tr>\n",
              "    <tr>\n",
              "      <th>min</th>\n",
              "      <td>55.315100</td>\n",
              "    </tr>\n",
              "    <tr>\n",
              "      <th>25%</th>\n",
              "      <td>77.105200</td>\n",
              "    </tr>\n",
              "    <tr>\n",
              "      <th>50%</th>\n",
              "      <td>89.779500</td>\n",
              "    </tr>\n",
              "    <tr>\n",
              "      <th>75%</th>\n",
              "      <td>100.524400</td>\n",
              "    </tr>\n",
              "    <tr>\n",
              "      <th>max</th>\n",
              "      <td>129.404800</td>\n",
              "    </tr>\n",
              "  </tbody>\n",
              "</table>\n",
              "</div>\n",
              "      <button class=\"colab-df-convert\" onclick=\"convertToInteractive('df-7d9f350f-b6db-4485-b832-0d74c05ac17a')\"\n",
              "              title=\"Convert this dataframe to an interactive table.\"\n",
              "              style=\"display:none;\">\n",
              "        \n",
              "  <svg xmlns=\"http://www.w3.org/2000/svg\" height=\"24px\"viewBox=\"0 0 24 24\"\n",
              "       width=\"24px\">\n",
              "    <path d=\"M0 0h24v24H0V0z\" fill=\"none\"/>\n",
              "    <path d=\"M18.56 5.44l.94 2.06.94-2.06 2.06-.94-2.06-.94-.94-2.06-.94 2.06-2.06.94zm-11 1L8.5 8.5l.94-2.06 2.06-.94-2.06-.94L8.5 2.5l-.94 2.06-2.06.94zm10 10l.94 2.06.94-2.06 2.06-.94-2.06-.94-.94-2.06-.94 2.06-2.06.94z\"/><path d=\"M17.41 7.96l-1.37-1.37c-.4-.4-.92-.59-1.43-.59-.52 0-1.04.2-1.43.59L10.3 9.45l-7.72 7.72c-.78.78-.78 2.05 0 2.83L4 21.41c.39.39.9.59 1.41.59.51 0 1.02-.2 1.41-.59l7.78-7.78 2.81-2.81c.8-.78.8-2.07 0-2.86zM5.41 20L4 18.59l7.72-7.72 1.47 1.35L5.41 20z\"/>\n",
              "  </svg>\n",
              "      </button>\n",
              "      \n",
              "  <style>\n",
              "    .colab-df-container {\n",
              "      display:flex;\n",
              "      flex-wrap:wrap;\n",
              "      gap: 12px;\n",
              "    }\n",
              "\n",
              "    .colab-df-convert {\n",
              "      background-color: #E8F0FE;\n",
              "      border: none;\n",
              "      border-radius: 50%;\n",
              "      cursor: pointer;\n",
              "      display: none;\n",
              "      fill: #1967D2;\n",
              "      height: 32px;\n",
              "      padding: 0 0 0 0;\n",
              "      width: 32px;\n",
              "    }\n",
              "\n",
              "    .colab-df-convert:hover {\n",
              "      background-color: #E2EBFA;\n",
              "      box-shadow: 0px 1px 2px rgba(60, 64, 67, 0.3), 0px 1px 3px 1px rgba(60, 64, 67, 0.15);\n",
              "      fill: #174EA6;\n",
              "    }\n",
              "\n",
              "    [theme=dark] .colab-df-convert {\n",
              "      background-color: #3B4455;\n",
              "      fill: #D2E3FC;\n",
              "    }\n",
              "\n",
              "    [theme=dark] .colab-df-convert:hover {\n",
              "      background-color: #434B5C;\n",
              "      box-shadow: 0px 1px 3px 1px rgba(0, 0, 0, 0.15);\n",
              "      filter: drop-shadow(0px 1px 2px rgba(0, 0, 0, 0.3));\n",
              "      fill: #FFFFFF;\n",
              "    }\n",
              "  </style>\n",
              "\n",
              "      <script>\n",
              "        const buttonEl =\n",
              "          document.querySelector('#df-7d9f350f-b6db-4485-b832-0d74c05ac17a button.colab-df-convert');\n",
              "        buttonEl.style.display =\n",
              "          google.colab.kernel.accessAllowed ? 'block' : 'none';\n",
              "\n",
              "        async function convertToInteractive(key) {\n",
              "          const element = document.querySelector('#df-7d9f350f-b6db-4485-b832-0d74c05ac17a');\n",
              "          const dataTable =\n",
              "            await google.colab.kernel.invokeFunction('convertToInteractive',\n",
              "                                                     [key], {});\n",
              "          if (!dataTable) return;\n",
              "\n",
              "          const docLinkHtml = 'Like what you see? Visit the ' +\n",
              "            '<a target=\"_blank\" href=https://colab.research.google.com/notebooks/data_table.ipynb>data table notebook</a>'\n",
              "            + ' to learn more about interactive tables.';\n",
              "          element.innerHTML = '';\n",
              "          dataTable['output_type'] = 'display_data';\n",
              "          await google.colab.output.renderOutput(dataTable, element);\n",
              "          const docLink = document.createElement('div');\n",
              "          docLink.innerHTML = docLinkHtml;\n",
              "          element.appendChild(docLink);\n",
              "        }\n",
              "      </script>\n",
              "    </div>\n",
              "  </div>\n",
              "  "
            ]
          },
          "metadata": {},
          "execution_count": 25
        }
      ]
    },
    {
      "cell_type": "markdown",
      "source": [
        "Renomeando nome da coluna para consumo, temos:"
      ],
      "metadata": {
        "id": "Zie82KJxgoUA"
      }
    },
    {
      "cell_type": "code",
      "source": [
        "df.columns = ['consumo']\n",
        "df.head()"
      ],
      "metadata": {
        "colab": {
          "base_uri": "https://localhost:8080/",
          "height": 238
        },
        "id": "hm2M5mTsg4-4",
        "outputId": "702aa984-43f8-49c8-88ea-7fda216da8db"
      },
      "execution_count": 27,
      "outputs": [
        {
          "output_type": "execute_result",
          "data": {
            "text/plain": [
              "            consumo\n",
              "DATE               \n",
              "1985-01-01  72.5052\n",
              "1985-02-01  70.6720\n",
              "1985-03-01  62.4502\n",
              "1985-04-01  57.4714\n",
              "1985-05-01  55.3151"
            ],
            "text/html": [
              "\n",
              "  <div id=\"df-2e58d7e5-0f2d-4237-b42a-6bedeef33b62\">\n",
              "    <div class=\"colab-df-container\">\n",
              "      <div>\n",
              "<style scoped>\n",
              "    .dataframe tbody tr th:only-of-type {\n",
              "        vertical-align: middle;\n",
              "    }\n",
              "\n",
              "    .dataframe tbody tr th {\n",
              "        vertical-align: top;\n",
              "    }\n",
              "\n",
              "    .dataframe thead th {\n",
              "        text-align: right;\n",
              "    }\n",
              "</style>\n",
              "<table border=\"1\" class=\"dataframe\">\n",
              "  <thead>\n",
              "    <tr style=\"text-align: right;\">\n",
              "      <th></th>\n",
              "      <th>consumo</th>\n",
              "    </tr>\n",
              "    <tr>\n",
              "      <th>DATE</th>\n",
              "      <th></th>\n",
              "    </tr>\n",
              "  </thead>\n",
              "  <tbody>\n",
              "    <tr>\n",
              "      <th>1985-01-01</th>\n",
              "      <td>72.5052</td>\n",
              "    </tr>\n",
              "    <tr>\n",
              "      <th>1985-02-01</th>\n",
              "      <td>70.6720</td>\n",
              "    </tr>\n",
              "    <tr>\n",
              "      <th>1985-03-01</th>\n",
              "      <td>62.4502</td>\n",
              "    </tr>\n",
              "    <tr>\n",
              "      <th>1985-04-01</th>\n",
              "      <td>57.4714</td>\n",
              "    </tr>\n",
              "    <tr>\n",
              "      <th>1985-05-01</th>\n",
              "      <td>55.3151</td>\n",
              "    </tr>\n",
              "  </tbody>\n",
              "</table>\n",
              "</div>\n",
              "      <button class=\"colab-df-convert\" onclick=\"convertToInteractive('df-2e58d7e5-0f2d-4237-b42a-6bedeef33b62')\"\n",
              "              title=\"Convert this dataframe to an interactive table.\"\n",
              "              style=\"display:none;\">\n",
              "        \n",
              "  <svg xmlns=\"http://www.w3.org/2000/svg\" height=\"24px\"viewBox=\"0 0 24 24\"\n",
              "       width=\"24px\">\n",
              "    <path d=\"M0 0h24v24H0V0z\" fill=\"none\"/>\n",
              "    <path d=\"M18.56 5.44l.94 2.06.94-2.06 2.06-.94-2.06-.94-.94-2.06-.94 2.06-2.06.94zm-11 1L8.5 8.5l.94-2.06 2.06-.94-2.06-.94L8.5 2.5l-.94 2.06-2.06.94zm10 10l.94 2.06.94-2.06 2.06-.94-2.06-.94-.94-2.06-.94 2.06-2.06.94z\"/><path d=\"M17.41 7.96l-1.37-1.37c-.4-.4-.92-.59-1.43-.59-.52 0-1.04.2-1.43.59L10.3 9.45l-7.72 7.72c-.78.78-.78 2.05 0 2.83L4 21.41c.39.39.9.59 1.41.59.51 0 1.02-.2 1.41-.59l7.78-7.78 2.81-2.81c.8-.78.8-2.07 0-2.86zM5.41 20L4 18.59l7.72-7.72 1.47 1.35L5.41 20z\"/>\n",
              "  </svg>\n",
              "      </button>\n",
              "      \n",
              "  <style>\n",
              "    .colab-df-container {\n",
              "      display:flex;\n",
              "      flex-wrap:wrap;\n",
              "      gap: 12px;\n",
              "    }\n",
              "\n",
              "    .colab-df-convert {\n",
              "      background-color: #E8F0FE;\n",
              "      border: none;\n",
              "      border-radius: 50%;\n",
              "      cursor: pointer;\n",
              "      display: none;\n",
              "      fill: #1967D2;\n",
              "      height: 32px;\n",
              "      padding: 0 0 0 0;\n",
              "      width: 32px;\n",
              "    }\n",
              "\n",
              "    .colab-df-convert:hover {\n",
              "      background-color: #E2EBFA;\n",
              "      box-shadow: 0px 1px 2px rgba(60, 64, 67, 0.3), 0px 1px 3px 1px rgba(60, 64, 67, 0.15);\n",
              "      fill: #174EA6;\n",
              "    }\n",
              "\n",
              "    [theme=dark] .colab-df-convert {\n",
              "      background-color: #3B4455;\n",
              "      fill: #D2E3FC;\n",
              "    }\n",
              "\n",
              "    [theme=dark] .colab-df-convert:hover {\n",
              "      background-color: #434B5C;\n",
              "      box-shadow: 0px 1px 3px 1px rgba(0, 0, 0, 0.15);\n",
              "      filter: drop-shadow(0px 1px 2px rgba(0, 0, 0, 0.3));\n",
              "      fill: #FFFFFF;\n",
              "    }\n",
              "  </style>\n",
              "\n",
              "      <script>\n",
              "        const buttonEl =\n",
              "          document.querySelector('#df-2e58d7e5-0f2d-4237-b42a-6bedeef33b62 button.colab-df-convert');\n",
              "        buttonEl.style.display =\n",
              "          google.colab.kernel.accessAllowed ? 'block' : 'none';\n",
              "\n",
              "        async function convertToInteractive(key) {\n",
              "          const element = document.querySelector('#df-2e58d7e5-0f2d-4237-b42a-6bedeef33b62');\n",
              "          const dataTable =\n",
              "            await google.colab.kernel.invokeFunction('convertToInteractive',\n",
              "                                                     [key], {});\n",
              "          if (!dataTable) return;\n",
              "\n",
              "          const docLinkHtml = 'Like what you see? Visit the ' +\n",
              "            '<a target=\"_blank\" href=https://colab.research.google.com/notebooks/data_table.ipynb>data table notebook</a>'\n",
              "            + ' to learn more about interactive tables.';\n",
              "          element.innerHTML = '';\n",
              "          dataTable['output_type'] = 'display_data';\n",
              "          await google.colab.output.renderOutput(dataTable, element);\n",
              "          const docLink = document.createElement('div');\n",
              "          docLink.innerHTML = docLinkHtml;\n",
              "          element.appendChild(docLink);\n",
              "        }\n",
              "      </script>\n",
              "    </div>\n",
              "  </div>\n",
              "  "
            ]
          },
          "metadata": {},
          "execution_count": 27
        }
      ]
    },
    {
      "cell_type": "markdown",
      "source": [
        "Para saber o tamanho da nossa série temporal temos:"
      ],
      "metadata": {
        "id": "dSlaLkWlhefD"
      }
    },
    {
      "cell_type": "code",
      "source": [
        "df.index.min(), df.index.max()"
      ],
      "metadata": {
        "colab": {
          "base_uri": "https://localhost:8080/",
          "height": 0
        },
        "id": "_XQ-zGEhhwqj",
        "outputId": "3dd55f0a-a973-4732-a97a-554ba2a08c22"
      },
      "execution_count": 28,
      "outputs": [
        {
          "output_type": "execute_result",
          "data": {
            "text/plain": [
              "(Timestamp('1985-01-01 00:00:00'), Timestamp('2018-01-01 00:00:00'))"
            ]
          },
          "metadata": {},
          "execution_count": 28
        }
      ]
    },
    {
      "cell_type": "markdown",
      "source": [
        "Fazendo uma plotagem rápida para vermos como os dados estão distribuidos no decorrer desde tempo.\n"
      ],
      "metadata": {
        "id": "i6DGDHP4iP2r"
      }
    },
    {
      "cell_type": "code",
      "source": [
        "df['consumo'].plot(figsize=(10,6))"
      ],
      "metadata": {
        "colab": {
          "base_uri": "https://localhost:8080/",
          "height": 405
        },
        "id": "kiUYK0shiPfc",
        "outputId": "e8a2927a-cafd-47c7-bf2b-356f332e6712"
      },
      "execution_count": 33,
      "outputs": [
        {
          "output_type": "execute_result",
          "data": {
            "text/plain": [
              "<matplotlib.axes._subplots.AxesSubplot at 0x7f616fb475d0>"
            ]
          },
          "metadata": {},
          "execution_count": 33
        },
        {
          "output_type": "display_data",
          "data": {
            "text/plain": [
              "<Figure size 720x432 with 1 Axes>"
            ],
            "image/png": "[encoded data removed]"
          },
          "metadata": {
            "needs_background": "light"
          }
        }
      ]
    },
    {
      "cell_type": "markdown",
      "source": [
        "**Prevendo com ARIMA**"
      ],
      "metadata": {
        "id": "oDtc1Ie4js-T"
      }
    },
    {
      "cell_type": "markdown",
      "source": [
        "Começando com uma análise exploratória de dados para entender melhor nossos dados."
      ],
      "metadata": {
        "id": "iHY9QSgGkBXc"
      }
    },
    {
      "cell_type": "code",
      "source": [
        "from statsmodels.tsa.seasonal import  seasonal_decompose\n",
        "\n",
        "resultado = seasonal_decompose(df)\n",
        "\n",
        "fig = plt.figure(figsize= (8,6))\n",
        "fig = resultado.plot()"
      ],
      "metadata": {
        "colab": {
          "base_uri": "https://localhost:8080/",
          "height": 314
        },
        "id": "a42l52pnjyg4",
        "outputId": "ebf47a2f-d87d-435b-c91d-cf7b6db0610b"
      },
      "execution_count": 34,
      "outputs": [
        {
          "output_type": "display_data",
          "data": {
            "text/plain": [
              "<Figure size 576x432 with 0 Axes>"
            ]
          },
          "metadata": {}
        },
        {
          "output_type": "display_data",
          "data": {
            "text/plain": [
              "<Figure size 432x288 with 4 Axes>"
            ],
            "image/png": "[encoded data removed]"
          },
          "metadata": {
            "needs_background": "light"
          }
        }
      ]
    },
    {
      "cell_type": "markdown",
      "source": [
        "**Teste de estacionariedade**"
      ],
      "metadata": {
        "id": "NGvK2KpZlM2R"
      }
    },
    {
      "cell_type": "code",
      "source": [
        "from statsmodels.tsa.stattools import adfuller\n",
        "\n",
        "result=adfuller(df['consumo'].dropna())\n",
        "print(f'Teste ADF:{result[0]}')\n",
        "print(f'p-valor:{result[1]}')"
      ],
      "metadata": {
        "colab": {
          "base_uri": "https://localhost:8080/",
          "height": 0
        },
        "id": "Ca76nVBzlgJe",
        "outputId": "632c09ab-ad30-4534-a9a9-34b3f8f7b849"
      },
      "execution_count": 41,
      "outputs": [
        {
          "output_type": "stream",
          "name": "stdout",
          "text": [
            "Teste ADF:-2.2569903500472366\n",
            "p-valor:0.18621469116587053\n"
          ]
        }
      ]
    },
    {
      "cell_type": "code",
      "source": [
        "# diff () - calcula a diferença do dataframe comparando com outro elementto do dataframe.\n",
        "\n",
        "from statsmodels.tsa.stattools import adfuller\n",
        "result=adfuller(df['consumo'].diff().dropna())\n",
        "print(f'Teste ADF:{result[0]}')\n",
        "print(f'p-valor:{result[1]}')"
      ],
      "metadata": {
        "colab": {
          "base_uri": "https://localhost:8080/",
          "height": 0
        },
        "id": "q-ChQE2FoC9f",
        "outputId": "58a4ecf2-fab3-42a8-a79a-adc655469e3a"
      },
      "execution_count": 42,
      "outputs": [
        {
          "output_type": "stream",
          "name": "stdout",
          "text": [
            "Teste ADF:-7.104890882267309\n",
            "p-valor:4.0777865655394705e-10\n"
          ]
        }
      ]
    },
    {
      "cell_type": "markdown",
      "source": [
        "Veja que a série passou a ser estacionária com a diferença realizada."
      ],
      "metadata": {
        "id": "JRj77PAawIJD"
      }
    },
    {
      "cell_type": "markdown",
      "source": [
        "Aqui, estamos fazendo vários modelos de Arima para ver qual o melhor na nossa utilização."
      ],
      "metadata": {
        "id": "47ishPcg579y"
      }
    },
    {
      "cell_type": "code",
      "source": [
        "fit_arima = auto_arima(df, d=1, satrt_p=1, start_q=1, max_p=3, max_q=3,\n",
        "                       seasonal = True,\n",
        "                       n=6,\n",
        "                       D=1,\n",
        "                       start_P=1,\n",
        "                       start_Q=1,\n",
        "                       max_P=2,\n",
        "                       max_Q=2,\n",
        "                       information_criterion='aic',\n",
        "                       trace= True,\n",
        "                       error_action = 'ignore',\n",
        "                       stepwise=True)"
      ],
      "metadata": {
        "colab": {
          "base_uri": "https://localhost:8080/",
          "height": 0
        },
        "id": "0wpa13lewOqJ",
        "outputId": "eec32a4e-496c-486a-dda7-b253b2e76042"
      },
      "execution_count": 47,
      "outputs": [
        {
          "output_type": "stream",
          "name": "stdout",
          "text": [
            "Performing stepwise search to minimize aic\n",
            " ARIMA(2,1,1)(0,0,0)[0] intercept   : AIC=2235.015, Time=0.34 sec\n",
            " ARIMA(0,1,0)(0,0,0)[0] intercept   : AIC=2750.050, Time=0.03 sec\n",
            " ARIMA(1,1,0)(0,0,0)[0] intercept   : AIC=2691.759, Time=0.09 sec\n",
            " ARIMA(0,1,1)(0,0,0)[0] intercept   : AIC=2624.463, Time=0.12 sec\n",
            " ARIMA(0,1,0)(0,0,0)[0]             : AIC=2748.185, Time=0.02 sec\n",
            " ARIMA(1,1,1)(0,0,0)[0] intercept   : AIC=2625.508, Time=0.19 sec\n",
            " ARIMA(2,1,0)(0,0,0)[0] intercept   : AIC=2463.436, Time=0.16 sec\n",
            " ARIMA(3,1,1)(0,0,0)[0] intercept   : AIC=2219.925, Time=0.50 sec\n",
            " ARIMA(3,1,0)(0,0,0)[0] intercept   : AIC=2300.788, Time=0.17 sec\n",
            " ARIMA(3,1,2)(0,0,0)[0] intercept   : AIC=inf, Time=0.96 sec\n",
            " ARIMA(2,1,2)(0,0,0)[0] intercept   : AIC=inf, Time=0.88 sec\n",
            " ARIMA(3,1,1)(0,0,0)[0]             : AIC=2229.093, Time=0.22 sec\n",
            "\n",
            "Best model:  ARIMA(3,1,1)(0,0,0)[0] intercept\n",
            "Total fit time: 3.712 seconds\n"
          ]
        }
      ]
    },
    {
      "cell_type": "code",
      "source": [
        "from statsmodels.tsa.statespace.sarimax import SARIMAX\n",
        "\n",
        "model = SARIMAX(df,arder=(3,1,1), seasonal_order =(0,0,0,0))\n",
        "resultado_sarimax = model.fit()"
      ],
      "metadata": {
        "colab": {
          "base_uri": "https://localhost:8080/",
          "height": 0
        },
        "id": "sYmExDw96tSI",
        "outputId": "7872e5a2-eed0-462d-901a-34b977287206"
      },
      "execution_count": 55,
      "outputs": [
        {
          "output_type": "stream",
          "name": "stderr",
          "text": [
            "/usr/local/lib/python3.7/dist-packages/statsmodels/tsa/base/tsa_model.py:471: ValueWarning: No frequency information was provided, so inferred frequency MS will be used.\n",
            "  self._init_dates(dates, freq)\n",
            "/usr/local/lib/python3.7/dist-packages/statsmodels/tsa/base/tsa_model.py:471: ValueWarning: No frequency information was provided, so inferred frequency MS will be used.\n",
            "  self._init_dates(dates, freq)\n"
          ]
        }
      ]
    },
    {
      "cell_type": "code",
      "source": [
        "resultado_sarimax.summary()"
      ],
      "metadata": {
        "colab": {
          "base_uri": "https://localhost:8080/",
          "height": 409
        },
        "id": "nCyMZVn68lNU",
        "outputId": "e499fcb9-d061-4a67-9447-c84b3705b1f5"
      },
      "execution_count": 56,
      "outputs": [
        {
          "output_type": "execute_result",
          "data": {
            "text/plain": [
              "<class 'statsmodels.iolib.summary.Summary'>\n",
              "\"\"\"\n",
              "                               SARIMAX Results                                \n",
              "==============================================================================\n",
              "Dep. Variable:                consumo   No. Observations:                  397\n",
              "Model:               SARIMAX(1, 0, 0)   Log Likelihood               -1378.811\n",
              "Date:                Mon, 25 Jul 2022   AIC                           2761.622\n",
              "Time:                        01:26:29   BIC                           2769.590\n",
              "Sample:                    01-01-1985   HQIC                          2764.778\n",
              "                         - 01-01-2018                                         \n",
              "Covariance Type:                  opg                                         \n",
              "==============================================================================\n",
              "                 coef    std err          z      P>|z|      [0.025      0.975]\n",
              "------------------------------------------------------------------------------\n",
              "ar.L1          0.9968      0.004    246.091      0.000       0.989       1.005\n",
              "sigma2        60.0712      5.507     10.909      0.000      49.278      70.864\n",
              "===================================================================================\n",
              "Ljung-Box (L1) (Q):                  55.86   Jarque-Bera (JB):                12.55\n",
              "Prob(Q):                              0.00   Prob(JB):                         0.00\n",
              "Heteroskedasticity (H):               2.74   Skew:                             0.19\n",
              "Prob(H) (two-sided):                  0.00   Kurtosis:                         2.22\n",
              "===================================================================================\n",
              "\n",
              "Warnings:\n",
              "[1] Covariance matrix calculated using the outer product of gradients (complex-step).\n",
              "\"\"\""
            ],
            "text/html": [
              "<table class=\"simpletable\">\n",
              "<caption>SARIMAX Results</caption>\n",
              "<tr>\n",
              "  <th>Dep. Variable:</th>        <td>consumo</td>     <th>  No. Observations:  </th>    <td>397</td>   \n",
              "</tr>\n",
              "<tr>\n",
              "  <th>Model:</th>           <td>SARIMAX(1, 0, 0)</td> <th>  Log Likelihood     </th> <td>-1378.811</td>\n",
              "</tr>\n",
              "<tr>\n",
              "  <th>Date:</th>            <td>Mon, 25 Jul 2022</td> <th>  AIC                </th> <td>2761.622</td> \n",
              "</tr>\n",
              "<tr>\n",
              "  <th>Time:</th>                <td>01:26:29</td>     <th>  BIC                </th> <td>2769.590</td> \n",
              "</tr>\n",
              "<tr>\n",
              "  <th>Sample:</th>             <td>01-01-1985</td>    <th>  HQIC               </th> <td>2764.778</td> \n",
              "</tr>\n",
              "<tr>\n",
              "  <th></th>                   <td>- 01-01-2018</td>   <th>                     </th>     <td> </td>    \n",
              "</tr>\n",
              "<tr>\n",
              "  <th>Covariance Type:</th>        <td>opg</td>       <th>                     </th>     <td> </td>    \n",
              "</tr>\n",
              "</table>\n",
              "<table class=\"simpletable\">\n",
              "<tr>\n",
              "     <td></td>       <th>coef</th>     <th>std err</th>      <th>z</th>      <th>P>|z|</th>  <th>[0.025</th>    <th>0.975]</th>  \n",
              "</tr>\n",
              "<tr>\n",
              "  <th>ar.L1</th>  <td>    0.9968</td> <td>    0.004</td> <td>  246.091</td> <td> 0.000</td> <td>    0.989</td> <td>    1.005</td>\n",
              "</tr>\n",
              "<tr>\n",
              "  <th>sigma2</th> <td>   60.0712</td> <td>    5.507</td> <td>   10.909</td> <td> 0.000</td> <td>   49.278</td> <td>   70.864</td>\n",
              "</tr>\n",
              "</table>\n",
              "<table class=\"simpletable\">\n",
              "<tr>\n",
              "  <th>Ljung-Box (L1) (Q):</th>     <td>55.86</td> <th>  Jarque-Bera (JB):  </th> <td>12.55</td>\n",
              "</tr>\n",
              "<tr>\n",
              "  <th>Prob(Q):</th>                <td>0.00</td>  <th>  Prob(JB):          </th> <td>0.00</td> \n",
              "</tr>\n",
              "<tr>\n",
              "  <th>Heteroskedasticity (H):</th> <td>2.74</td>  <th>  Skew:              </th> <td>0.19</td> \n",
              "</tr>\n",
              "<tr>\n",
              "  <th>Prob(H) (two-sided):</th>    <td>0.00</td>  <th>  Kurtosis:          </th> <td>2.22</td> \n",
              "</tr>\n",
              "</table><br/><br/>Warnings:<br/>[1] Covariance matrix calculated using the outer product of gradients (complex-step)."
            ]
          },
          "metadata": {},
          "execution_count": 56
        }
      ]
    },
    {
      "cell_type": "code",
      "source": [
        "predicoes = resultado_sarimax.get_prediction(start=-12)\n",
        "predicao_media = predicoes.predicted_mean"
      ],
      "metadata": {
        "id": "tJVk5nbE9sF5"
      },
      "execution_count": 58,
      "outputs": []
    },
    {
      "cell_type": "code",
      "source": [
        "#intervalo de confiança \n",
        "\n",
        "intervalo_confianca = predicoes.conf_int()\n",
        "limites_abaixo = intervalo_confianca.iloc[:,0]\n",
        "limites_acima = intervalo_confianca.iloc[:,1]\n",
        "\n",
        "limites_abaixo[0], limites_acima[0]\n",
        "    "
      ],
      "metadata": {
        "colab": {
          "base_uri": "https://localhost:8080/",
          "height": 0
        },
        "id": "UoLncYjS-Kg1",
        "outputId": "1e95ce54-bf3f-41d5-8220-f0525b9b4f5c"
      },
      "execution_count": 60,
      "outputs": [
        {
          "output_type": "execute_result",
          "data": {
            "text/plain": [
              "(99.29439482930819, 129.676037094851)"
            ]
          },
          "metadata": {},
          "execution_count": 60
        }
      ]
    },
    {
      "cell_type": "code",
      "source": [
        "predicao_media[0]"
      ],
      "metadata": {
        "colab": {
          "base_uri": "https://localhost:8080/",
          "height": 0
        },
        "id": "F7J05y2i_BBq",
        "outputId": "a24f56b7-df41-409b-8ccd-ac662f18fdc1"
      },
      "execution_count": 61,
      "outputs": [
        {
          "output_type": "execute_result",
          "data": {
            "text/plain": [
              "114.4852159620796"
            ]
          },
          "metadata": {},
          "execution_count": 61
        }
      ]
    },
    {
      "cell_type": "code",
      "source": [
        "datas_previsao = np.asarray(predicao_media.index)\n",
        "datas = np.asarray(df.index)"
      ],
      "metadata": {
        "id": "U3hbhk7M_Urf"
      },
      "execution_count": 62,
      "outputs": []
    },
    {
      "cell_type": "code",
      "source": [
        "plt.figure(figsize=(10,6))\n",
        "plt.plot(datas_previsao, predicao_media.values, color = 'red', label = 'prediction')\n",
        "plt.fill_between(datas_previsao, limites_abaixo, limites_acima, color= 'red')\n",
        "plt.plot(datas, df.values, label = 'real')\n",
        "plt.legend()\n",
        "plt.show()"
      ],
      "metadata": {
        "colab": {
          "base_uri": "https://localhost:8080/",
          "height": 374
        },
        "id": "BefSFKYKCEUZ",
        "outputId": "fc9e67c3-73b1-4901-c9e3-3af8b0f128ab"
      },
      "execution_count": 63,
      "outputs": [
        {
          "output_type": "display_data",
          "data": {
            "text/plain": [
              "<Figure size 720x432 with 1 Axes>"
            ],
            "image/png": "[encoded data removed]"
          },
          "metadata": {
            "needs_background": "light"
          }
        }
      ]
    },
    {
      "cell_type": "code",
      "source": [
        "from sklearn.metrics import mean_squared_error\n",
        "from math import sqrt \n",
        "\n",
        "rmse_sarima = sqrt(mean_squared_error(df[-12:].values, predicao_media.values))\n",
        "print(rmse_sarima)\n"
      ],
      "metadata": {
        "colab": {
          "base_uri": "https://localhost:8080/",
          "height": 0
        },
        "id": "hJRorWmgDaX4",
        "outputId": "566c6f41-eeda-4f07-be0f-602c68f890b0"
      },
      "execution_count": 65,
      "outputs": [
        {
          "output_type": "stream",
          "name": "stdout",
          "text": [
            "10.394980922433234\n"
          ]
        }
      ]
    },
    {
      "cell_type": "markdown",
      "source": [
        "**FORECAST COM ARIMA**"
      ],
      "metadata": {
        "id": "OoqvbS59E514"
      }
    },
    {
      "cell_type": "code",
      "source": [
        "# fORECAST para 12 valores\n",
        "\n",
        "forecast = resultado_sarimax.get_forecast(steps=12)\n",
        "forecast_medio = forecast.predicted_mean \n",
        "forecast_medio.size"
      ],
      "metadata": {
        "colab": {
          "base_uri": "https://localhost:8080/",
          "height": 0
        },
        "id": "_SqqdCUZFDla",
        "outputId": "bb2fe9b0-cd62-4cc4-e2b0-8231ec5521cb"
      },
      "execution_count": 68,
      "outputs": [
        {
          "output_type": "execute_result",
          "data": {
            "text/plain": [
              "12"
            ]
          },
          "metadata": {},
          "execution_count": 68
        }
      ]
    },
    {
      "cell_type": "code",
      "source": [
        "intervalo_confianca_forecast = forecast.conf_int()\n",
        "intervalo_abaixo_f = intervalo_confianca_forecast.iloc[:,0]\n",
        "intervalo_acima_f = intervalo_confianca_forecast.iloc[:,1]\n",
        "\n",
        "intervalo_abaixo_f[10], intervalo_acima_f[10]\n",
        "    "
      ],
      "metadata": {
        "colab": {
          "base_uri": "https://localhost:8080/",
          "height": 0
        },
        "id": "xsXyzJJtFeYN",
        "outputId": "3e4b1eff-7718-4e8e-df99-8244cc10009c"
      },
      "execution_count": 71,
      "outputs": [
        {
          "output_type": "execute_result",
          "data": {
            "text/plain": [
              "(113.80240462183757, 144.1840468873804)"
            ]
          },
          "metadata": {},
          "execution_count": 71
        }
      ]
    },
    {
      "cell_type": "code",
      "source": [
        "forecast_medio[10]"
      ],
      "metadata": {
        "colab": {
          "base_uri": "https://localhost:8080/",
          "height": 0
        },
        "id": "IicOk3DmLu6U",
        "outputId": "d397891c-fc54-4fce-dd1f-b182f4ccd6c8"
      },
      "execution_count": 73,
      "outputs": [
        {
          "output_type": "execute_result",
          "data": {
            "text/plain": [
              "124.9487967493753"
            ]
          },
          "metadata": {},
          "execution_count": 73
        }
      ]
    },
    {
      "cell_type": "code",
      "source": [
        "datas_forecast = np.asarray(forecast_medio.index)\n",
        "pred_dates=np.asarray(predicao_media.index)"
      ],
      "metadata": {
        "id": "rINgYgjxL82B"
      },
      "execution_count": 74,
      "outputs": []
    },
    {
      "cell_type": "code",
      "source": [
        "dates = np.asarray(df.index)\n",
        "plt.figure(figsize=(10,6))\n",
        "plt.plot(datas_forecast, predicao_media.values, color = 'green', label = 'forecast')\n",
        "plt.fill_between(datas_forecast, intervalo_abaixo_f, intervalo_acima_f, color= 'lightgreen')\n",
        "\n",
        "plt.plot(datas_previsao, predicao_media.values, color = 'red', label = 'prediction')\n",
        "plt.fill_between(datas_previsao, limites_abaixo, limites_acima, color= 'pink')\n",
        "\n",
        "plt.plot(datas, df.values, label = 'real')\n",
        "plt.legend(loc='upper left')\n",
        "plt.show()"
      ],
      "metadata": {
        "colab": {
          "base_uri": "https://localhost:8080/",
          "height": 374
        },
        "id": "uLilzVb9MPFE",
        "outputId": "0df4e29e-b4b7-4dfd-d683-6756a3b6e304"
      },
      "execution_count": 76,
      "outputs": [
        {
          "output_type": "display_data",
          "data": {
            "text/plain": [
              "<Figure size 720x432 with 1 Axes>"
            ],
            "image/png": "[encoded data removed]"
          },
          "metadata": {
            "needs_background": "light"
          }
        }
      ]
    },
    {
      "cell_type": "markdown",
      "source": [
        "**Prevendo com XGBoost**"
      ],
      "metadata": {
        "id": "23WrPag1OhWt"
      }
    },
    {
      "cell_type": "code",
      "source": [
        "df\n"
      ],
      "metadata": {
        "colab": {
          "base_uri": "https://localhost:8080/",
          "height": 455
        },
        "id": "8wxjQarOOg50",
        "outputId": "31df641f-7d15-44a7-e88b-70aa4c0a3694"
      },
      "execution_count": 77,
      "outputs": [
        {
          "output_type": "execute_result",
          "data": {
            "text/plain": [
              "             consumo\n",
              "DATE                \n",
              "1985-01-01   72.5052\n",
              "1985-02-01   70.6720\n",
              "1985-03-01   62.4502\n",
              "1985-04-01   57.4714\n",
              "1985-05-01   55.3151\n",
              "...              ...\n",
              "2017-09-01   98.6154\n",
              "2017-10-01   93.6137\n",
              "2017-11-01   97.3359\n",
              "2017-12-01  114.7212\n",
              "2018-01-01  129.4048\n",
              "\n",
              "[397 rows x 1 columns]"
            ],
            "text/html": [
              "\n",
              "  <div id=\"df-ce21d6fd-3ad8-4881-97c6-2079d182899e\">\n",
              "    <div class=\"colab-df-container\">\n",
              "      <div>\n",
              "<style scoped>\n",
              "    .dataframe tbody tr th:only-of-type {\n",
              "        vertical-align: middle;\n",
              "    }\n",
              "\n",
              "    .dataframe tbody tr th {\n",
              "        vertical-align: top;\n",
              "    }\n",
              "\n",
              "    .dataframe thead th {\n",
              "        text-align: right;\n",
              "    }\n",
              "</style>\n",
              "<table border=\"1\" class=\"dataframe\">\n",
              "  <thead>\n",
              "    <tr style=\"text-align: right;\">\n",
              "      <th></th>\n",
              "      <th>consumo</th>\n",
              "    </tr>\n",
              "    <tr>\n",
              "      <th>DATE</th>\n",
              "      <th></th>\n",
              "    </tr>\n",
              "  </thead>\n",
              "  <tbody>\n",
              "    <tr>\n",
              "      <th>1985-01-01</th>\n",
              "      <td>72.5052</td>\n",
              "    </tr>\n",
              "    <tr>\n",
              "      <th>1985-02-01</th>\n",
              "      <td>70.6720</td>\n",
              "    </tr>\n",
              "    <tr>\n",
              "      <th>1985-03-01</th>\n",
              "      <td>62.4502</td>\n",
              "    </tr>\n",
              "    <tr>\n",
              "      <th>1985-04-01</th>\n",
              "      <td>57.4714</td>\n",
              "    </tr>\n",
              "    <tr>\n",
              "      <th>1985-05-01</th>\n",
              "      <td>55.3151</td>\n",
              "    </tr>\n",
              "    <tr>\n",
              "      <th>...</th>\n",
              "      <td>...</td>\n",
              "    </tr>\n",
              "    <tr>\n",
              "      <th>2017-09-01</th>\n",
              "      <td>98.6154</td>\n",
              "    </tr>\n",
              "    <tr>\n",
              "      <th>2017-10-01</th>\n",
              "      <td>93.6137</td>\n",
              "    </tr>\n",
              "    <tr>\n",
              "      <th>2017-11-01</th>\n",
              "      <td>97.3359</td>\n",
              "    </tr>\n",
              "    <tr>\n",
              "      <th>2017-12-01</th>\n",
              "      <td>114.7212</td>\n",
              "    </tr>\n",
              "    <tr>\n",
              "      <th>2018-01-01</th>\n",
              "      <td>129.4048</td>\n",
              "    </tr>\n",
              "  </tbody>\n",
              "</table>\n",
              "<p>397 rows × 1 columns</p>\n",
              "</div>\n",
              "      <button class=\"colab-df-convert\" onclick=\"convertToInteractive('df-ce21d6fd-3ad8-4881-97c6-2079d182899e')\"\n",
              "              title=\"Convert this dataframe to an interactive table.\"\n",
              "              style=\"display:none;\">\n",
              "        \n",
              "  <svg xmlns=\"http://www.w3.org/2000/svg\" height=\"24px\"viewBox=\"0 0 24 24\"\n",
              "       width=\"24px\">\n",
              "    <path d=\"M0 0h24v24H0V0z\" fill=\"none\"/>\n",
              "    <path d=\"M18.56 5.44l.94 2.06.94-2.06 2.06-.94-2.06-.94-.94-2.06-.94 2.06-2.06.94zm-11 1L8.5 8.5l.94-2.06 2.06-.94-2.06-.94L8.5 2.5l-.94 2.06-2.06.94zm10 10l.94 2.06.94-2.06 2.06-.94-2.06-.94-.94-2.06-.94 2.06-2.06.94z\"/><path d=\"M17.41 7.96l-1.37-1.37c-.4-.4-.92-.59-1.43-.59-.52 0-1.04.2-1.43.59L10.3 9.45l-7.72 7.72c-.78.78-.78 2.05 0 2.83L4 21.41c.39.39.9.59 1.41.59.51 0 1.02-.2 1.41-.59l7.78-7.78 2.81-2.81c.8-.78.8-2.07 0-2.86zM5.41 20L4 18.59l7.72-7.72 1.47 1.35L5.41 20z\"/>\n",
              "  </svg>\n",
              "      </button>\n",
              "      \n",
              "  <style>\n",
              "    .colab-df-container {\n",
              "      display:flex;\n",
              "      flex-wrap:wrap;\n",
              "      gap: 12px;\n",
              "    }\n",
              "\n",
              "    .colab-df-convert {\n",
              "      background-color: #E8F0FE;\n",
              "      border: none;\n",
              "      border-radius: 50%;\n",
              "      cursor: pointer;\n",
              "      display: none;\n",
              "      fill: #1967D2;\n",
              "      height: 32px;\n",
              "      padding: 0 0 0 0;\n",
              "      width: 32px;\n",
              "    }\n",
              "\n",
              "    .colab-df-convert:hover {\n",
              "      background-color: #E2EBFA;\n",
              "      box-shadow: 0px 1px 2px rgba(60, 64, 67, 0.3), 0px 1px 3px 1px rgba(60, 64, 67, 0.15);\n",
              "      fill: #174EA6;\n",
              "    }\n",
              "\n",
              "    [theme=dark] .colab-df-convert {\n",
              "      background-color: #3B4455;\n",
              "      fill: #D2E3FC;\n",
              "    }\n",
              "\n",
              "    [theme=dark] .colab-df-convert:hover {\n",
              "      background-color: #434B5C;\n",
              "      box-shadow: 0px 1px 3px 1px rgba(0, 0, 0, 0.15);\n",
              "      filter: drop-shadow(0px 1px 2px rgba(0, 0, 0, 0.3));\n",
              "      fill: #FFFFFF;\n",
              "    }\n",
              "  </style>\n",
              "\n",
              "      <script>\n",
              "        const buttonEl =\n",
              "          document.querySelector('#df-ce21d6fd-3ad8-4881-97c6-2079d182899e button.colab-df-convert');\n",
              "        buttonEl.style.display =\n",
              "          google.colab.kernel.accessAllowed ? 'block' : 'none';\n",
              "\n",
              "        async function convertToInteractive(key) {\n",
              "          const element = document.querySelector('#df-ce21d6fd-3ad8-4881-97c6-2079d182899e');\n",
              "          const dataTable =\n",
              "            await google.colab.kernel.invokeFunction('convertToInteractive',\n",
              "                                                     [key], {});\n",
              "          if (!dataTable) return;\n",
              "\n",
              "          const docLinkHtml = 'Like what you see? Visit the ' +\n",
              "            '<a target=\"_blank\" href=https://colab.research.google.com/notebooks/data_table.ipynb>data table notebook</a>'\n",
              "            + ' to learn more about interactive tables.';\n",
              "          element.innerHTML = '';\n",
              "          dataTable['output_type'] = 'display_data';\n",
              "          await google.colab.output.renderOutput(dataTable, element);\n",
              "          const docLink = document.createElement('div');\n",
              "          docLink.innerHTML = docLinkHtml;\n",
              "          element.appendChild(docLink);\n",
              "        }\n",
              "      </script>\n",
              "    </div>\n",
              "  </div>\n",
              "  "
            ]
          },
          "metadata": {},
          "execution_count": 77
        }
      ]
    },
    {
      "cell_type": "code",
      "source": [
        "treino = df.loc[df.index <= '2016-12-31']\n",
        "validacao = df.loc[df.index > '2016-12-31']\n",
        "\n",
        "treino.shape, validacao.shape"
      ],
      "metadata": {
        "colab": {
          "base_uri": "https://localhost:8080/",
          "height": 0
        },
        "id": "SXqE25QbOtB6",
        "outputId": "b20b6507-94ca-4925-e3ad-836c6ce6b80c"
      },
      "execution_count": 78,
      "outputs": [
        {
          "output_type": "execute_result",
          "data": {
            "text/plain": [
              "((384, 1), (13, 1))"
            ]
          },
          "metadata": {},
          "execution_count": 78
        }
      ]
    },
    {
      "cell_type": "code",
      "source": [
        "treino.index.min(), treino.index.max()"
      ],
      "metadata": {
        "colab": {
          "base_uri": "https://localhost:8080/",
          "height": 0
        },
        "id": "xgVfpNLHPPik",
        "outputId": "a05a2364-659c-48ee-c99e-5b1f5118a3c8"
      },
      "execution_count": 79,
      "outputs": [
        {
          "output_type": "execute_result",
          "data": {
            "text/plain": [
              "(Timestamp('1985-01-01 00:00:00'), Timestamp('2016-12-01 00:00:00'))"
            ]
          },
          "metadata": {},
          "execution_count": 79
        }
      ]
    },
    {
      "cell_type": "code",
      "source": [
        "validacao.index.min(), validacao.index.max()"
      ],
      "metadata": {
        "colab": {
          "base_uri": "https://localhost:8080/",
          "height": 0
        },
        "id": "L3NHl8bEPlqv",
        "outputId": "c658a6d7-97fa-454e-bb88-33af770254b9"
      },
      "execution_count": 80,
      "outputs": [
        {
          "output_type": "execute_result",
          "data": {
            "text/plain": [
              "(Timestamp('2017-01-01 00:00:00'), Timestamp('2018-01-01 00:00:00'))"
            ]
          },
          "metadata": {},
          "execution_count": 80
        }
      ]
    },
    {
      "cell_type": "markdown",
      "source": [
        "**Criando a variavel target e a lagged variable (já que é consumo, certo ?)**"
      ],
      "metadata": {
        "id": "TMgegoCDQ8SF"
      }
    },
    {
      "cell_type": "code",
      "source": [
        "treino['consumo']"
      ],
      "metadata": {
        "colab": {
          "base_uri": "https://localhost:8080/",
          "height": 0
        },
        "id": "IennfPH1Qnop",
        "outputId": "cf560a1d-aa4c-48b4-aa56-5e61c731074a"
      },
      "execution_count": 81,
      "outputs": [
        {
          "output_type": "execute_result",
          "data": {
            "text/plain": [
              "DATE\n",
              "1985-01-01     72.5052\n",
              "1985-02-01     70.6720\n",
              "1985-03-01     62.4502\n",
              "1985-04-01     57.4714\n",
              "1985-05-01     55.3151\n",
              "                ...   \n",
              "2016-08-01    115.5159\n",
              "2016-09-01    102.7637\n",
              "2016-10-01     91.4867\n",
              "2016-11-01     92.8900\n",
              "2016-12-01    112.7694\n",
              "Name: consumo, Length: 384, dtype: float64"
            ]
          },
          "metadata": {},
          "execution_count": 81
        }
      ]
    },
    {
      "cell_type": "code",
      "source": [
        "treino['consumo'].shift(-1)"
      ],
      "metadata": {
        "colab": {
          "base_uri": "https://localhost:8080/",
          "height": 0
        },
        "id": "l6j4n0dwRKHM",
        "outputId": "a45dc1c9-9b08-430b-fd5b-d1f0c10e5820"
      },
      "execution_count": 82,
      "outputs": [
        {
          "output_type": "execute_result",
          "data": {
            "text/plain": [
              "DATE\n",
              "1985-01-01     70.6720\n",
              "1985-02-01     62.4502\n",
              "1985-03-01     57.4714\n",
              "1985-04-01     55.3151\n",
              "1985-05-01     58.0904\n",
              "                ...   \n",
              "2016-08-01    102.7637\n",
              "2016-09-01     91.4867\n",
              "2016-10-01     92.8900\n",
              "2016-11-01    112.7694\n",
              "2016-12-01         NaN\n",
              "Name: consumo, Length: 384, dtype: float64"
            ]
          },
          "metadata": {},
          "execution_count": 82
        }
      ]
    },
    {
      "cell_type": "code",
      "source": [
        "treino['target'] = treino ['consumo'].shift(-1)\n",
        "treino.head()"
      ],
      "metadata": {
        "colab": {
          "base_uri": "https://localhost:8080/",
          "height": 342
        },
        "id": "es8HZEegRqhf",
        "outputId": "6ef1452d-ed0b-4ccb-db4f-f894551447dd"
      },
      "execution_count": 83,
      "outputs": [
        {
          "output_type": "stream",
          "name": "stderr",
          "text": [
            "/usr/local/lib/python3.7/dist-packages/ipykernel_launcher.py:1: SettingWithCopyWarning: \n",
            "A value is trying to be set on a copy of a slice from a DataFrame.\n",
            "Try using .loc[row_indexer,col_indexer] = value instead\n",
            "\n",
            "See the caveats in the documentation: https://pandas.pydata.org/pandas-docs/stable/user_guide/indexing.html#returning-a-view-versus-a-copy\n",
            "  \"\"\"Entry point for launching an IPython kernel.\n"
          ]
        },
        {
          "output_type": "execute_result",
          "data": {
            "text/plain": [
              "            consumo   target\n",
              "DATE                        \n",
              "1985-01-01  72.5052  70.6720\n",
              "1985-02-01  70.6720  62.4502\n",
              "1985-03-01  62.4502  57.4714\n",
              "1985-04-01  57.4714  55.3151\n",
              "1985-05-01  55.3151  58.0904"
            ],
            "text/html": [
              "\n",
              "  <div id=\"df-3e89df01-0fed-4941-ba09-8aa3b545845d\">\n",
              "    <div class=\"colab-df-container\">\n",
              "      <div>\n",
              "<style scoped>\n",
              "    .dataframe tbody tr th:only-of-type {\n",
              "        vertical-align: middle;\n",
              "    }\n",
              "\n",
              "    .dataframe tbody tr th {\n",
              "        vertical-align: top;\n",
              "    }\n",
              "\n",
              "    .dataframe thead th {\n",
              "        text-align: right;\n",
              "    }\n",
              "</style>\n",
              "<table border=\"1\" class=\"dataframe\">\n",
              "  <thead>\n",
              "    <tr style=\"text-align: right;\">\n",
              "      <th></th>\n",
              "      <th>consumo</th>\n",
              "      <th>target</th>\n",
              "    </tr>\n",
              "    <tr>\n",
              "      <th>DATE</th>\n",
              "      <th></th>\n",
              "      <th></th>\n",
              "    </tr>\n",
              "  </thead>\n",
              "  <tbody>\n",
              "    <tr>\n",
              "      <th>1985-01-01</th>\n",
              "      <td>72.5052</td>\n",
              "      <td>70.6720</td>\n",
              "    </tr>\n",
              "    <tr>\n",
              "      <th>1985-02-01</th>\n",
              "      <td>70.6720</td>\n",
              "      <td>62.4502</td>\n",
              "    </tr>\n",
              "    <tr>\n",
              "      <th>1985-03-01</th>\n",
              "      <td>62.4502</td>\n",
              "      <td>57.4714</td>\n",
              "    </tr>\n",
              "    <tr>\n",
              "      <th>1985-04-01</th>\n",
              "      <td>57.4714</td>\n",
              "      <td>55.3151</td>\n",
              "    </tr>\n",
              "    <tr>\n",
              "      <th>1985-05-01</th>\n",
              "      <td>55.3151</td>\n",
              "      <td>58.0904</td>\n",
              "    </tr>\n",
              "  </tbody>\n",
              "</table>\n",
              "</div>\n",
              "      <button class=\"colab-df-convert\" onclick=\"convertToInteractive('df-3e89df01-0fed-4941-ba09-8aa3b545845d')\"\n",
              "              title=\"Convert this dataframe to an interactive table.\"\n",
              "              style=\"display:none;\">\n",
              "        \n",
              "  <svg xmlns=\"http://www.w3.org/2000/svg\" height=\"24px\"viewBox=\"0 0 24 24\"\n",
              "       width=\"24px\">\n",
              "    <path d=\"M0 0h24v24H0V0z\" fill=\"none\"/>\n",
              "    <path d=\"M18.56 5.44l.94 2.06.94-2.06 2.06-.94-2.06-.94-.94-2.06-.94 2.06-2.06.94zm-11 1L8.5 8.5l.94-2.06 2.06-.94-2.06-.94L8.5 2.5l-.94 2.06-2.06.94zm10 10l.94 2.06.94-2.06 2.06-.94-2.06-.94-.94-2.06-.94 2.06-2.06.94z\"/><path d=\"M17.41 7.96l-1.37-1.37c-.4-.4-.92-.59-1.43-.59-.52 0-1.04.2-1.43.59L10.3 9.45l-7.72 7.72c-.78.78-.78 2.05 0 2.83L4 21.41c.39.39.9.59 1.41.59.51 0 1.02-.2 1.41-.59l7.78-7.78 2.81-2.81c.8-.78.8-2.07 0-2.86zM5.41 20L4 18.59l7.72-7.72 1.47 1.35L5.41 20z\"/>\n",
              "  </svg>\n",
              "      </button>\n",
              "      \n",
              "  <style>\n",
              "    .colab-df-container {\n",
              "      display:flex;\n",
              "      flex-wrap:wrap;\n",
              "      gap: 12px;\n",
              "    }\n",
              "\n",
              "    .colab-df-convert {\n",
              "      background-color: #E8F0FE;\n",
              "      border: none;\n",
              "      border-radius: 50%;\n",
              "      cursor: pointer;\n",
              "      display: none;\n",
              "      fill: #1967D2;\n",
              "      height: 32px;\n",
              "      padding: 0 0 0 0;\n",
              "      width: 32px;\n",
              "    }\n",
              "\n",
              "    .colab-df-convert:hover {\n",
              "      background-color: #E2EBFA;\n",
              "      box-shadow: 0px 1px 2px rgba(60, 64, 67, 0.3), 0px 1px 3px 1px rgba(60, 64, 67, 0.15);\n",
              "      fill: #174EA6;\n",
              "    }\n",
              "\n",
              "    [theme=dark] .colab-df-convert {\n",
              "      background-color: #3B4455;\n",
              "      fill: #D2E3FC;\n",
              "    }\n",
              "\n",
              "    [theme=dark] .colab-df-convert:hover {\n",
              "      background-color: #434B5C;\n",
              "      box-shadow: 0px 1px 3px 1px rgba(0, 0, 0, 0.15);\n",
              "      filter: drop-shadow(0px 1px 2px rgba(0, 0, 0, 0.3));\n",
              "      fill: #FFFFFF;\n",
              "    }\n",
              "  </style>\n",
              "\n",
              "      <script>\n",
              "        const buttonEl =\n",
              "          document.querySelector('#df-3e89df01-0fed-4941-ba09-8aa3b545845d button.colab-df-convert');\n",
              "        buttonEl.style.display =\n",
              "          google.colab.kernel.accessAllowed ? 'block' : 'none';\n",
              "\n",
              "        async function convertToInteractive(key) {\n",
              "          const element = document.querySelector('#df-3e89df01-0fed-4941-ba09-8aa3b545845d');\n",
              "          const dataTable =\n",
              "            await google.colab.kernel.invokeFunction('convertToInteractive',\n",
              "                                                     [key], {});\n",
              "          if (!dataTable) return;\n",
              "\n",
              "          const docLinkHtml = 'Like what you see? Visit the ' +\n",
              "            '<a target=\"_blank\" href=https://colab.research.google.com/notebooks/data_table.ipynb>data table notebook</a>'\n",
              "            + ' to learn more about interactive tables.';\n",
              "          element.innerHTML = '';\n",
              "          dataTable['output_type'] = 'display_data';\n",
              "          await google.colab.output.renderOutput(dataTable, element);\n",
              "          const docLink = document.createElement('div');\n",
              "          docLink.innerHTML = docLinkHtml;\n",
              "          element.appendChild(docLink);\n",
              "        }\n",
              "      </script>\n",
              "    </div>\n",
              "  </div>\n",
              "  "
            ]
          },
          "metadata": {},
          "execution_count": 83
        }
      ]
    },
    {
      "cell_type": "code",
      "source": [
        "treino.tail()"
      ],
      "metadata": {
        "colab": {
          "base_uri": "https://localhost:8080/",
          "height": 238
        },
        "id": "_v8tGB7FSTXH",
        "outputId": "be3bdd0b-e142-4ca9-9645-7e4fe49bf422"
      },
      "execution_count": 85,
      "outputs": [
        {
          "output_type": "execute_result",
          "data": {
            "text/plain": [
              "             consumo    target\n",
              "DATE                          \n",
              "2016-08-01  115.5159  102.7637\n",
              "2016-09-01  102.7637   91.4867\n",
              "2016-10-01   91.4867   92.8900\n",
              "2016-11-01   92.8900  112.7694\n",
              "2016-12-01  112.7694       NaN"
            ],
            "text/html": [
              "\n",
              "  <div id=\"df-9b607e0d-9d20-46f1-b78e-b6b2352dc31d\">\n",
              "    <div class=\"colab-df-container\">\n",
              "      <div>\n",
              "<style scoped>\n",
              "    .dataframe tbody tr th:only-of-type {\n",
              "        vertical-align: middle;\n",
              "    }\n",
              "\n",
              "    .dataframe tbody tr th {\n",
              "        vertical-align: top;\n",
              "    }\n",
              "\n",
              "    .dataframe thead th {\n",
              "        text-align: right;\n",
              "    }\n",
              "</style>\n",
              "<table border=\"1\" class=\"dataframe\">\n",
              "  <thead>\n",
              "    <tr style=\"text-align: right;\">\n",
              "      <th></th>\n",
              "      <th>consumo</th>\n",
              "      <th>target</th>\n",
              "    </tr>\n",
              "    <tr>\n",
              "      <th>DATE</th>\n",
              "      <th></th>\n",
              "      <th></th>\n",
              "    </tr>\n",
              "  </thead>\n",
              "  <tbody>\n",
              "    <tr>\n",
              "      <th>2016-08-01</th>\n",
              "      <td>115.5159</td>\n",
              "      <td>102.7637</td>\n",
              "    </tr>\n",
              "    <tr>\n",
              "      <th>2016-09-01</th>\n",
              "      <td>102.7637</td>\n",
              "      <td>91.4867</td>\n",
              "    </tr>\n",
              "    <tr>\n",
              "      <th>2016-10-01</th>\n",
              "      <td>91.4867</td>\n",
              "      <td>92.8900</td>\n",
              "    </tr>\n",
              "    <tr>\n",
              "      <th>2016-11-01</th>\n",
              "      <td>92.8900</td>\n",
              "      <td>112.7694</td>\n",
              "    </tr>\n",
              "    <tr>\n",
              "      <th>2016-12-01</th>\n",
              "      <td>112.7694</td>\n",
              "      <td>NaN</td>\n",
              "    </tr>\n",
              "  </tbody>\n",
              "</table>\n",
              "</div>\n",
              "      <button class=\"colab-df-convert\" onclick=\"convertToInteractive('df-9b607e0d-9d20-46f1-b78e-b6b2352dc31d')\"\n",
              "              title=\"Convert this dataframe to an interactive table.\"\n",
              "              style=\"display:none;\">\n",
              "        \n",
              "  <svg xmlns=\"http://www.w3.org/2000/svg\" height=\"24px\"viewBox=\"0 0 24 24\"\n",
              "       width=\"24px\">\n",
              "    <path d=\"M0 0h24v24H0V0z\" fill=\"none\"/>\n",
              "    <path d=\"M18.56 5.44l.94 2.06.94-2.06 2.06-.94-2.06-.94-.94-2.06-.94 2.06-2.06.94zm-11 1L8.5 8.5l.94-2.06 2.06-.94-2.06-.94L8.5 2.5l-.94 2.06-2.06.94zm10 10l.94 2.06.94-2.06 2.06-.94-2.06-.94-.94-2.06-.94 2.06-2.06.94z\"/><path d=\"M17.41 7.96l-1.37-1.37c-.4-.4-.92-.59-1.43-.59-.52 0-1.04.2-1.43.59L10.3 9.45l-7.72 7.72c-.78.78-.78 2.05 0 2.83L4 21.41c.39.39.9.59 1.41.59.51 0 1.02-.2 1.41-.59l7.78-7.78 2.81-2.81c.8-.78.8-2.07 0-2.86zM5.41 20L4 18.59l7.72-7.72 1.47 1.35L5.41 20z\"/>\n",
              "  </svg>\n",
              "      </button>\n",
              "      \n",
              "  <style>\n",
              "    .colab-df-container {\n",
              "      display:flex;\n",
              "      flex-wrap:wrap;\n",
              "      gap: 12px;\n",
              "    }\n",
              "\n",
              "    .colab-df-convert {\n",
              "      background-color: #E8F0FE;\n",
              "      border: none;\n",
              "      border-radius: 50%;\n",
              "      cursor: pointer;\n",
              "      display: none;\n",
              "      fill: #1967D2;\n",
              "      height: 32px;\n",
              "      padding: 0 0 0 0;\n",
              "      width: 32px;\n",
              "    }\n",
              "\n",
              "    .colab-df-convert:hover {\n",
              "      background-color: #E2EBFA;\n",
              "      box-shadow: 0px 1px 2px rgba(60, 64, 67, 0.3), 0px 1px 3px 1px rgba(60, 64, 67, 0.15);\n",
              "      fill: #174EA6;\n",
              "    }\n",
              "\n",
              "    [theme=dark] .colab-df-convert {\n",
              "      background-color: #3B4455;\n",
              "      fill: #D2E3FC;\n",
              "    }\n",
              "\n",
              "    [theme=dark] .colab-df-convert:hover {\n",
              "      background-color: #434B5C;\n",
              "      box-shadow: 0px 1px 3px 1px rgba(0, 0, 0, 0.15);\n",
              "      filter: drop-shadow(0px 1px 2px rgba(0, 0, 0, 0.3));\n",
              "      fill: #FFFFFF;\n",
              "    }\n",
              "  </style>\n",
              "\n",
              "      <script>\n",
              "        const buttonEl =\n",
              "          document.querySelector('#df-9b607e0d-9d20-46f1-b78e-b6b2352dc31d button.colab-df-convert');\n",
              "        buttonEl.style.display =\n",
              "          google.colab.kernel.accessAllowed ? 'block' : 'none';\n",
              "\n",
              "        async function convertToInteractive(key) {\n",
              "          const element = document.querySelector('#df-9b607e0d-9d20-46f1-b78e-b6b2352dc31d');\n",
              "          const dataTable =\n",
              "            await google.colab.kernel.invokeFunction('convertToInteractive',\n",
              "                                                     [key], {});\n",
              "          if (!dataTable) return;\n",
              "\n",
              "          const docLinkHtml = 'Like what you see? Visit the ' +\n",
              "            '<a target=\"_blank\" href=https://colab.research.google.com/notebooks/data_table.ipynb>data table notebook</a>'\n",
              "            + ' to learn more about interactive tables.';\n",
              "          element.innerHTML = '';\n",
              "          dataTable['output_type'] = 'display_data';\n",
              "          await google.colab.output.renderOutput(dataTable, element);\n",
              "          const docLink = document.createElement('div');\n",
              "          docLink.innerHTML = docLinkHtml;\n",
              "          element.appendChild(docLink);\n",
              "        }\n",
              "      </script>\n",
              "    </div>\n",
              "  </div>\n",
              "  "
            ]
          },
          "metadata": {},
          "execution_count": 85
        }
      ]
    },
    {
      "cell_type": "code",
      "source": [
        "treino = treino.dropna()\n",
        "treino.tail()"
      ],
      "metadata": {
        "colab": {
          "base_uri": "https://localhost:8080/",
          "height": 238
        },
        "id": "AF-TmYjjSd6Y",
        "outputId": "0edbbf90-aa4f-4c74-d60e-4e8391ec91bc"
      },
      "execution_count": 86,
      "outputs": [
        {
          "output_type": "execute_result",
          "data": {
            "text/plain": [
              "             consumo    target\n",
              "DATE                          \n",
              "2016-07-01  114.5397  115.5159\n",
              "2016-08-01  115.5159  102.7637\n",
              "2016-09-01  102.7637   91.4867\n",
              "2016-10-01   91.4867   92.8900\n",
              "2016-11-01   92.8900  112.7694"
            ],
            "text/html": [
              "\n",
              "  <div id=\"df-f4e2ed45-a712-457e-8494-45928d72b9bd\">\n",
              "    <div class=\"colab-df-container\">\n",
              "      <div>\n",
              "<style scoped>\n",
              "    .dataframe tbody tr th:only-of-type {\n",
              "        vertical-align: middle;\n",
              "    }\n",
              "\n",
              "    .dataframe tbody tr th {\n",
              "        vertical-align: top;\n",
              "    }\n",
              "\n",
              "    .dataframe thead th {\n",
              "        text-align: right;\n",
              "    }\n",
              "</style>\n",
              "<table border=\"1\" class=\"dataframe\">\n",
              "  <thead>\n",
              "    <tr style=\"text-align: right;\">\n",
              "      <th></th>\n",
              "      <th>consumo</th>\n",
              "      <th>target</th>\n",
              "    </tr>\n",
              "    <tr>\n",
              "      <th>DATE</th>\n",
              "      <th></th>\n",
              "      <th></th>\n",
              "    </tr>\n",
              "  </thead>\n",
              "  <tbody>\n",
              "    <tr>\n",
              "      <th>2016-07-01</th>\n",
              "      <td>114.5397</td>\n",
              "      <td>115.5159</td>\n",
              "    </tr>\n",
              "    <tr>\n",
              "      <th>2016-08-01</th>\n",
              "      <td>115.5159</td>\n",
              "      <td>102.7637</td>\n",
              "    </tr>\n",
              "    <tr>\n",
              "      <th>2016-09-01</th>\n",
              "      <td>102.7637</td>\n",
              "      <td>91.4867</td>\n",
              "    </tr>\n",
              "    <tr>\n",
              "      <th>2016-10-01</th>\n",
              "      <td>91.4867</td>\n",
              "      <td>92.8900</td>\n",
              "    </tr>\n",
              "    <tr>\n",
              "      <th>2016-11-01</th>\n",
              "      <td>92.8900</td>\n",
              "      <td>112.7694</td>\n",
              "    </tr>\n",
              "  </tbody>\n",
              "</table>\n",
              "</div>\n",
              "      <button class=\"colab-df-convert\" onclick=\"convertToInteractive('df-f4e2ed45-a712-457e-8494-45928d72b9bd')\"\n",
              "              title=\"Convert this dataframe to an interactive table.\"\n",
              "              style=\"display:none;\">\n",
              "        \n",
              "  <svg xmlns=\"http://www.w3.org/2000/svg\" height=\"24px\"viewBox=\"0 0 24 24\"\n",
              "       width=\"24px\">\n",
              "    <path d=\"M0 0h24v24H0V0z\" fill=\"none\"/>\n",
              "    <path d=\"M18.56 5.44l.94 2.06.94-2.06 2.06-.94-2.06-.94-.94-2.06-.94 2.06-2.06.94zm-11 1L8.5 8.5l.94-2.06 2.06-.94-2.06-.94L8.5 2.5l-.94 2.06-2.06.94zm10 10l.94 2.06.94-2.06 2.06-.94-2.06-.94-.94-2.06-.94 2.06-2.06.94z\"/><path d=\"M17.41 7.96l-1.37-1.37c-.4-.4-.92-.59-1.43-.59-.52 0-1.04.2-1.43.59L10.3 9.45l-7.72 7.72c-.78.78-.78 2.05 0 2.83L4 21.41c.39.39.9.59 1.41.59.51 0 1.02-.2 1.41-.59l7.78-7.78 2.81-2.81c.8-.78.8-2.07 0-2.86zM5.41 20L4 18.59l7.72-7.72 1.47 1.35L5.41 20z\"/>\n",
              "  </svg>\n",
              "      </button>\n",
              "      \n",
              "  <style>\n",
              "    .colab-df-container {\n",
              "      display:flex;\n",
              "      flex-wrap:wrap;\n",
              "      gap: 12px;\n",
              "    }\n",
              "\n",
              "    .colab-df-convert {\n",
              "      background-color: #E8F0FE;\n",
              "      border: none;\n",
              "      border-radius: 50%;\n",
              "      cursor: pointer;\n",
              "      display: none;\n",
              "      fill: #1967D2;\n",
              "      height: 32px;\n",
              "      padding: 0 0 0 0;\n",
              "      width: 32px;\n",
              "    }\n",
              "\n",
              "    .colab-df-convert:hover {\n",
              "      background-color: #E2EBFA;\n",
              "      box-shadow: 0px 1px 2px rgba(60, 64, 67, 0.3), 0px 1px 3px 1px rgba(60, 64, 67, 0.15);\n",
              "      fill: #174EA6;\n",
              "    }\n",
              "\n",
              "    [theme=dark] .colab-df-convert {\n",
              "      background-color: #3B4455;\n",
              "      fill: #D2E3FC;\n",
              "    }\n",
              "\n",
              "    [theme=dark] .colab-df-convert:hover {\n",
              "      background-color: #434B5C;\n",
              "      box-shadow: 0px 1px 3px 1px rgba(0, 0, 0, 0.15);\n",
              "      filter: drop-shadow(0px 1px 2px rgba(0, 0, 0, 0.3));\n",
              "      fill: #FFFFFF;\n",
              "    }\n",
              "  </style>\n",
              "\n",
              "      <script>\n",
              "        const buttonEl =\n",
              "          document.querySelector('#df-f4e2ed45-a712-457e-8494-45928d72b9bd button.colab-df-convert');\n",
              "        buttonEl.style.display =\n",
              "          google.colab.kernel.accessAllowed ? 'block' : 'none';\n",
              "\n",
              "        async function convertToInteractive(key) {\n",
              "          const element = document.querySelector('#df-f4e2ed45-a712-457e-8494-45928d72b9bd');\n",
              "          const dataTable =\n",
              "            await google.colab.kernel.invokeFunction('convertToInteractive',\n",
              "                                                     [key], {});\n",
              "          if (!dataTable) return;\n",
              "\n",
              "          const docLinkHtml = 'Like what you see? Visit the ' +\n",
              "            '<a target=\"_blank\" href=https://colab.research.google.com/notebooks/data_table.ipynb>data table notebook</a>'\n",
              "            + ' to learn more about interactive tables.';\n",
              "          element.innerHTML = '';\n",
              "          dataTable['output_type'] = 'display_data';\n",
              "          await google.colab.output.renderOutput(dataTable, element);\n",
              "          const docLink = document.createElement('div');\n",
              "          docLink.innerHTML = docLinkHtml;\n",
              "          element.appendChild(docLink);\n",
              "        }\n",
              "      </script>\n",
              "    </div>\n",
              "  </div>\n",
              "  "
            ]
          },
          "metadata": {},
          "execution_count": 86
        }
      ]
    },
    {
      "cell_type": "code",
      "source": [
        "validacao['target'] = validacao['consumo'].shift(-1)\n",
        "validacao.head()"
      ],
      "metadata": {
        "colab": {
          "base_uri": "https://localhost:8080/",
          "height": 342
        },
        "id": "HHOKmIpqS0Wr",
        "outputId": "1f1b5ee1-1456-46ad-b458-f1e34cc35a2d"
      },
      "execution_count": 87,
      "outputs": [
        {
          "output_type": "stream",
          "name": "stderr",
          "text": [
            "/usr/local/lib/python3.7/dist-packages/ipykernel_launcher.py:1: SettingWithCopyWarning: \n",
            "A value is trying to be set on a copy of a slice from a DataFrame.\n",
            "Try using .loc[row_indexer,col_indexer] = value instead\n",
            "\n",
            "See the caveats in the documentation: https://pandas.pydata.org/pandas-docs/stable/user_guide/indexing.html#returning-a-view-versus-a-copy\n",
            "  \"\"\"Entry point for launching an IPython kernel.\n"
          ]
        },
        {
          "output_type": "execute_result",
          "data": {
            "text/plain": [
              "             consumo    target\n",
              "DATE                          \n",
              "2017-01-01  114.8505   99.4901\n",
              "2017-02-01   99.4901  101.0396\n",
              "2017-03-01  101.0396   88.3530\n",
              "2017-04-01   88.3530   92.0805\n",
              "2017-05-01   92.0805  102.1532"
            ],
            "text/html": [
              "\n",
              "  <div id=\"df-034269ad-2102-40f5-8238-da3216f05ded\">\n",
              "    <div class=\"colab-df-container\">\n",
              "      <div>\n",
              "<style scoped>\n",
              "    .dataframe tbody tr th:only-of-type {\n",
              "        vertical-align: middle;\n",
              "    }\n",
              "\n",
              "    .dataframe tbody tr th {\n",
              "        vertical-align: top;\n",
              "    }\n",
              "\n",
              "    .dataframe thead th {\n",
              "        text-align: right;\n",
              "    }\n",
              "</style>\n",
              "<table border=\"1\" class=\"dataframe\">\n",
              "  <thead>\n",
              "    <tr style=\"text-align: right;\">\n",
              "      <th></th>\n",
              "      <th>consumo</th>\n",
              "      <th>target</th>\n",
              "    </tr>\n",
              "    <tr>\n",
              "      <th>DATE</th>\n",
              "      <th></th>\n",
              "      <th></th>\n",
              "    </tr>\n",
              "  </thead>\n",
              "  <tbody>\n",
              "    <tr>\n",
              "      <th>2017-01-01</th>\n",
              "      <td>114.8505</td>\n",
              "      <td>99.4901</td>\n",
              "    </tr>\n",
              "    <tr>\n",
              "      <th>2017-02-01</th>\n",
              "      <td>99.4901</td>\n",
              "      <td>101.0396</td>\n",
              "    </tr>\n",
              "    <tr>\n",
              "      <th>2017-03-01</th>\n",
              "      <td>101.0396</td>\n",
              "      <td>88.3530</td>\n",
              "    </tr>\n",
              "    <tr>\n",
              "      <th>2017-04-01</th>\n",
              "      <td>88.3530</td>\n",
              "      <td>92.0805</td>\n",
              "    </tr>\n",
              "    <tr>\n",
              "      <th>2017-05-01</th>\n",
              "      <td>92.0805</td>\n",
              "      <td>102.1532</td>\n",
              "    </tr>\n",
              "  </tbody>\n",
              "</table>\n",
              "</div>\n",
              "      <button class=\"colab-df-convert\" onclick=\"convertToInteractive('df-034269ad-2102-40f5-8238-da3216f05ded')\"\n",
              "              title=\"Convert this dataframe to an interactive table.\"\n",
              "              style=\"display:none;\">\n",
              "        \n",
              "  <svg xmlns=\"http://www.w3.org/2000/svg\" height=\"24px\"viewBox=\"0 0 24 24\"\n",
              "       width=\"24px\">\n",
              "    <path d=\"M0 0h24v24H0V0z\" fill=\"none\"/>\n",
              "    <path d=\"M18.56 5.44l.94 2.06.94-2.06 2.06-.94-2.06-.94-.94-2.06-.94 2.06-2.06.94zm-11 1L8.5 8.5l.94-2.06 2.06-.94-2.06-.94L8.5 2.5l-.94 2.06-2.06.94zm10 10l.94 2.06.94-2.06 2.06-.94-2.06-.94-.94-2.06-.94 2.06-2.06.94z\"/><path d=\"M17.41 7.96l-1.37-1.37c-.4-.4-.92-.59-1.43-.59-.52 0-1.04.2-1.43.59L10.3 9.45l-7.72 7.72c-.78.78-.78 2.05 0 2.83L4 21.41c.39.39.9.59 1.41.59.51 0 1.02-.2 1.41-.59l7.78-7.78 2.81-2.81c.8-.78.8-2.07 0-2.86zM5.41 20L4 18.59l7.72-7.72 1.47 1.35L5.41 20z\"/>\n",
              "  </svg>\n",
              "      </button>\n",
              "      \n",
              "  <style>\n",
              "    .colab-df-container {\n",
              "      display:flex;\n",
              "      flex-wrap:wrap;\n",
              "      gap: 12px;\n",
              "    }\n",
              "\n",
              "    .colab-df-convert {\n",
              "      background-color: #E8F0FE;\n",
              "      border: none;\n",
              "      border-radius: 50%;\n",
              "      cursor: pointer;\n",
              "      display: none;\n",
              "      fill: #1967D2;\n",
              "      height: 32px;\n",
              "      padding: 0 0 0 0;\n",
              "      width: 32px;\n",
              "    }\n",
              "\n",
              "    .colab-df-convert:hover {\n",
              "      background-color: #E2EBFA;\n",
              "      box-shadow: 0px 1px 2px rgba(60, 64, 67, 0.3), 0px 1px 3px 1px rgba(60, 64, 67, 0.15);\n",
              "      fill: #174EA6;\n",
              "    }\n",
              "\n",
              "    [theme=dark] .colab-df-convert {\n",
              "      background-color: #3B4455;\n",
              "      fill: #D2E3FC;\n",
              "    }\n",
              "\n",
              "    [theme=dark] .colab-df-convert:hover {\n",
              "      background-color: #434B5C;\n",
              "      box-shadow: 0px 1px 3px 1px rgba(0, 0, 0, 0.15);\n",
              "      filter: drop-shadow(0px 1px 2px rgba(0, 0, 0, 0.3));\n",
              "      fill: #FFFFFF;\n",
              "    }\n",
              "  </style>\n",
              "\n",
              "      <script>\n",
              "        const buttonEl =\n",
              "          document.querySelector('#df-034269ad-2102-40f5-8238-da3216f05ded button.colab-df-convert');\n",
              "        buttonEl.style.display =\n",
              "          google.colab.kernel.accessAllowed ? 'block' : 'none';\n",
              "\n",
              "        async function convertToInteractive(key) {\n",
              "          const element = document.querySelector('#df-034269ad-2102-40f5-8238-da3216f05ded');\n",
              "          const dataTable =\n",
              "            await google.colab.kernel.invokeFunction('convertToInteractive',\n",
              "                                                     [key], {});\n",
              "          if (!dataTable) return;\n",
              "\n",
              "          const docLinkHtml = 'Like what you see? Visit the ' +\n",
              "            '<a target=\"_blank\" href=https://colab.research.google.com/notebooks/data_table.ipynb>data table notebook</a>'\n",
              "            + ' to learn more about interactive tables.';\n",
              "          element.innerHTML = '';\n",
              "          dataTable['output_type'] = 'display_data';\n",
              "          await google.colab.output.renderOutput(dataTable, element);\n",
              "          const docLink = document.createElement('div');\n",
              "          docLink.innerHTML = docLinkHtml;\n",
              "          element.appendChild(docLink);\n",
              "        }\n",
              "      </script>\n",
              "    </div>\n",
              "  </div>\n",
              "  "
            ]
          },
          "metadata": {},
          "execution_count": 87
        }
      ]
    },
    {
      "cell_type": "code",
      "source": [
        "validacao.tail()"
      ],
      "metadata": {
        "colab": {
          "base_uri": "https://localhost:8080/",
          "height": 238
        },
        "id": "MVgtNzeWTDc2",
        "outputId": "745680b9-a283-4ca1-832f-3d4fb4b602ca"
      },
      "execution_count": 88,
      "outputs": [
        {
          "output_type": "execute_result",
          "data": {
            "text/plain": [
              "             consumo    target\n",
              "DATE                          \n",
              "2017-09-01   98.6154   93.6137\n",
              "2017-10-01   93.6137   97.3359\n",
              "2017-11-01   97.3359  114.7212\n",
              "2017-12-01  114.7212  129.4048\n",
              "2018-01-01  129.4048       NaN"
            ],
            "text/html": [
              "\n",
              "  <div id=\"df-f7a360a9-8d3b-4aeb-9d10-282eac6dfad9\">\n",
              "    <div class=\"colab-df-container\">\n",
              "      <div>\n",
              "<style scoped>\n",
              "    .dataframe tbody tr th:only-of-type {\n",
              "        vertical-align: middle;\n",
              "    }\n",
              "\n",
              "    .dataframe tbody tr th {\n",
              "        vertical-align: top;\n",
              "    }\n",
              "\n",
              "    .dataframe thead th {\n",
              "        text-align: right;\n",
              "    }\n",
              "</style>\n",
              "<table border=\"1\" class=\"dataframe\">\n",
              "  <thead>\n",
              "    <tr style=\"text-align: right;\">\n",
              "      <th></th>\n",
              "      <th>consumo</th>\n",
              "      <th>target</th>\n",
              "    </tr>\n",
              "    <tr>\n",
              "      <th>DATE</th>\n",
              "      <th></th>\n",
              "      <th></th>\n",
              "    </tr>\n",
              "  </thead>\n",
              "  <tbody>\n",
              "    <tr>\n",
              "      <th>2017-09-01</th>\n",
              "      <td>98.6154</td>\n",
              "      <td>93.6137</td>\n",
              "    </tr>\n",
              "    <tr>\n",
              "      <th>2017-10-01</th>\n",
              "      <td>93.6137</td>\n",
              "      <td>97.3359</td>\n",
              "    </tr>\n",
              "    <tr>\n",
              "      <th>2017-11-01</th>\n",
              "      <td>97.3359</td>\n",
              "      <td>114.7212</td>\n",
              "    </tr>\n",
              "    <tr>\n",
              "      <th>2017-12-01</th>\n",
              "      <td>114.7212</td>\n",
              "      <td>129.4048</td>\n",
              "    </tr>\n",
              "    <tr>\n",
              "      <th>2018-01-01</th>\n",
              "      <td>129.4048</td>\n",
              "      <td>NaN</td>\n",
              "    </tr>\n",
              "  </tbody>\n",
              "</table>\n",
              "</div>\n",
              "      <button class=\"colab-df-convert\" onclick=\"convertToInteractive('df-f7a360a9-8d3b-4aeb-9d10-282eac6dfad9')\"\n",
              "              title=\"Convert this dataframe to an interactive table.\"\n",
              "              style=\"display:none;\">\n",
              "        \n",
              "  <svg xmlns=\"http://www.w3.org/2000/svg\" height=\"24px\"viewBox=\"0 0 24 24\"\n",
              "       width=\"24px\">\n",
              "    <path d=\"M0 0h24v24H0V0z\" fill=\"none\"/>\n",
              "    <path d=\"M18.56 5.44l.94 2.06.94-2.06 2.06-.94-2.06-.94-.94-2.06-.94 2.06-2.06.94zm-11 1L8.5 8.5l.94-2.06 2.06-.94-2.06-.94L8.5 2.5l-.94 2.06-2.06.94zm10 10l.94 2.06.94-2.06 2.06-.94-2.06-.94-.94-2.06-.94 2.06-2.06.94z\"/><path d=\"M17.41 7.96l-1.37-1.37c-.4-.4-.92-.59-1.43-.59-.52 0-1.04.2-1.43.59L10.3 9.45l-7.72 7.72c-.78.78-.78 2.05 0 2.83L4 21.41c.39.39.9.59 1.41.59.51 0 1.02-.2 1.41-.59l7.78-7.78 2.81-2.81c.8-.78.8-2.07 0-2.86zM5.41 20L4 18.59l7.72-7.72 1.47 1.35L5.41 20z\"/>\n",
              "  </svg>\n",
              "      </button>\n",
              "      \n",
              "  <style>\n",
              "    .colab-df-container {\n",
              "      display:flex;\n",
              "      flex-wrap:wrap;\n",
              "      gap: 12px;\n",
              "    }\n",
              "\n",
              "    .colab-df-convert {\n",
              "      background-color: #E8F0FE;\n",
              "      border: none;\n",
              "      border-radius: 50%;\n",
              "      cursor: pointer;\n",
              "      display: none;\n",
              "      fill: #1967D2;\n",
              "      height: 32px;\n",
              "      padding: 0 0 0 0;\n",
              "      width: 32px;\n",
              "    }\n",
              "\n",
              "    .colab-df-convert:hover {\n",
              "      background-color: #E2EBFA;\n",
              "      box-shadow: 0px 1px 2px rgba(60, 64, 67, 0.3), 0px 1px 3px 1px rgba(60, 64, 67, 0.15);\n",
              "      fill: #174EA6;\n",
              "    }\n",
              "\n",
              "    [theme=dark] .colab-df-convert {\n",
              "      background-color: #3B4455;\n",
              "      fill: #D2E3FC;\n",
              "    }\n",
              "\n",
              "    [theme=dark] .colab-df-convert:hover {\n",
              "      background-color: #434B5C;\n",
              "      box-shadow: 0px 1px 3px 1px rgba(0, 0, 0, 0.15);\n",
              "      filter: drop-shadow(0px 1px 2px rgba(0, 0, 0, 0.3));\n",
              "      fill: #FFFFFF;\n",
              "    }\n",
              "  </style>\n",
              "\n",
              "      <script>\n",
              "        const buttonEl =\n",
              "          document.querySelector('#df-f7a360a9-8d3b-4aeb-9d10-282eac6dfad9 button.colab-df-convert');\n",
              "        buttonEl.style.display =\n",
              "          google.colab.kernel.accessAllowed ? 'block' : 'none';\n",
              "\n",
              "        async function convertToInteractive(key) {\n",
              "          const element = document.querySelector('#df-f7a360a9-8d3b-4aeb-9d10-282eac6dfad9');\n",
              "          const dataTable =\n",
              "            await google.colab.kernel.invokeFunction('convertToInteractive',\n",
              "                                                     [key], {});\n",
              "          if (!dataTable) return;\n",
              "\n",
              "          const docLinkHtml = 'Like what you see? Visit the ' +\n",
              "            '<a target=\"_blank\" href=https://colab.research.google.com/notebooks/data_table.ipynb>data table notebook</a>'\n",
              "            + ' to learn more about interactive tables.';\n",
              "          element.innerHTML = '';\n",
              "          dataTable['output_type'] = 'display_data';\n",
              "          await google.colab.output.renderOutput(dataTable, element);\n",
              "          const docLink = document.createElement('div');\n",
              "          docLink.innerHTML = docLinkHtml;\n",
              "          element.appendChild(docLink);\n",
              "        }\n",
              "      </script>\n",
              "    </div>\n",
              "  </div>\n",
              "  "
            ]
          },
          "metadata": {},
          "execution_count": 88
        }
      ]
    },
    {
      "cell_type": "code",
      "source": [
        "validacao = validacao.dropna()\n",
        "validacao.tail()"
      ],
      "metadata": {
        "colab": {
          "base_uri": "https://localhost:8080/",
          "height": 238
        },
        "id": "yAnQ1SbxTMH7",
        "outputId": "f9a7b125-0663-4a8c-b617-c68d457efd28"
      },
      "execution_count": 89,
      "outputs": [
        {
          "output_type": "execute_result",
          "data": {
            "text/plain": [
              "             consumo    target\n",
              "DATE                          \n",
              "2017-08-01  108.9312   98.6154\n",
              "2017-09-01   98.6154   93.6137\n",
              "2017-10-01   93.6137   97.3359\n",
              "2017-11-01   97.3359  114.7212\n",
              "2017-12-01  114.7212  129.4048"
            ],
            "text/html": [
              "\n",
              "  <div id=\"df-0b09a940-92f2-4e88-a532-4624d6f57d49\">\n",
              "    <div class=\"colab-df-container\">\n",
              "      <div>\n",
              "<style scoped>\n",
              "    .dataframe tbody tr th:only-of-type {\n",
              "        vertical-align: middle;\n",
              "    }\n",
              "\n",
              "    .dataframe tbody tr th {\n",
              "        vertical-align: top;\n",
              "    }\n",
              "\n",
              "    .dataframe thead th {\n",
              "        text-align: right;\n",
              "    }\n",
              "</style>\n",
              "<table border=\"1\" class=\"dataframe\">\n",
              "  <thead>\n",
              "    <tr style=\"text-align: right;\">\n",
              "      <th></th>\n",
              "      <th>consumo</th>\n",
              "      <th>target</th>\n",
              "    </tr>\n",
              "    <tr>\n",
              "      <th>DATE</th>\n",
              "      <th></th>\n",
              "      <th></th>\n",
              "    </tr>\n",
              "  </thead>\n",
              "  <tbody>\n",
              "    <tr>\n",
              "      <th>2017-08-01</th>\n",
              "      <td>108.9312</td>\n",
              "      <td>98.6154</td>\n",
              "    </tr>\n",
              "    <tr>\n",
              "      <th>2017-09-01</th>\n",
              "      <td>98.6154</td>\n",
              "      <td>93.6137</td>\n",
              "    </tr>\n",
              "    <tr>\n",
              "      <th>2017-10-01</th>\n",
              "      <td>93.6137</td>\n",
              "      <td>97.3359</td>\n",
              "    </tr>\n",
              "    <tr>\n",
              "      <th>2017-11-01</th>\n",
              "      <td>97.3359</td>\n",
              "      <td>114.7212</td>\n",
              "    </tr>\n",
              "    <tr>\n",
              "      <th>2017-12-01</th>\n",
              "      <td>114.7212</td>\n",
              "      <td>129.4048</td>\n",
              "    </tr>\n",
              "  </tbody>\n",
              "</table>\n",
              "</div>\n",
              "      <button class=\"colab-df-convert\" onclick=\"convertToInteractive('df-0b09a940-92f2-4e88-a532-4624d6f57d49')\"\n",
              "              title=\"Convert this dataframe to an interactive table.\"\n",
              "              style=\"display:none;\">\n",
              "        \n",
              "  <svg xmlns=\"http://www.w3.org/2000/svg\" height=\"24px\"viewBox=\"0 0 24 24\"\n",
              "       width=\"24px\">\n",
              "    <path d=\"M0 0h24v24H0V0z\" fill=\"none\"/>\n",
              "    <path d=\"M18.56 5.44l.94 2.06.94-2.06 2.06-.94-2.06-.94-.94-2.06-.94 2.06-2.06.94zm-11 1L8.5 8.5l.94-2.06 2.06-.94-2.06-.94L8.5 2.5l-.94 2.06-2.06.94zm10 10l.94 2.06.94-2.06 2.06-.94-2.06-.94-.94-2.06-.94 2.06-2.06.94z\"/><path d=\"M17.41 7.96l-1.37-1.37c-.4-.4-.92-.59-1.43-.59-.52 0-1.04.2-1.43.59L10.3 9.45l-7.72 7.72c-.78.78-.78 2.05 0 2.83L4 21.41c.39.39.9.59 1.41.59.51 0 1.02-.2 1.41-.59l7.78-7.78 2.81-2.81c.8-.78.8-2.07 0-2.86zM5.41 20L4 18.59l7.72-7.72 1.47 1.35L5.41 20z\"/>\n",
              "  </svg>\n",
              "      </button>\n",
              "      \n",
              "  <style>\n",
              "    .colab-df-container {\n",
              "      display:flex;\n",
              "      flex-wrap:wrap;\n",
              "      gap: 12px;\n",
              "    }\n",
              "\n",
              "    .colab-df-convert {\n",
              "      background-color: #E8F0FE;\n",
              "      border: none;\n",
              "      border-radius: 50%;\n",
              "      cursor: pointer;\n",
              "      display: none;\n",
              "      fill: #1967D2;\n",
              "      height: 32px;\n",
              "      padding: 0 0 0 0;\n",
              "      width: 32px;\n",
              "    }\n",
              "\n",
              "    .colab-df-convert:hover {\n",
              "      background-color: #E2EBFA;\n",
              "      box-shadow: 0px 1px 2px rgba(60, 64, 67, 0.3), 0px 1px 3px 1px rgba(60, 64, 67, 0.15);\n",
              "      fill: #174EA6;\n",
              "    }\n",
              "\n",
              "    [theme=dark] .colab-df-convert {\n",
              "      background-color: #3B4455;\n",
              "      fill: #D2E3FC;\n",
              "    }\n",
              "\n",
              "    [theme=dark] .colab-df-convert:hover {\n",
              "      background-color: #434B5C;\n",
              "      box-shadow: 0px 1px 3px 1px rgba(0, 0, 0, 0.15);\n",
              "      filter: drop-shadow(0px 1px 2px rgba(0, 0, 0, 0.3));\n",
              "      fill: #FFFFFF;\n",
              "    }\n",
              "  </style>\n",
              "\n",
              "      <script>\n",
              "        const buttonEl =\n",
              "          document.querySelector('#df-0b09a940-92f2-4e88-a532-4624d6f57d49 button.colab-df-convert');\n",
              "        buttonEl.style.display =\n",
              "          google.colab.kernel.accessAllowed ? 'block' : 'none';\n",
              "\n",
              "        async function convertToInteractive(key) {\n",
              "          const element = document.querySelector('#df-0b09a940-92f2-4e88-a532-4624d6f57d49');\n",
              "          const dataTable =\n",
              "            await google.colab.kernel.invokeFunction('convertToInteractive',\n",
              "                                                     [key], {});\n",
              "          if (!dataTable) return;\n",
              "\n",
              "          const docLinkHtml = 'Like what you see? Visit the ' +\n",
              "            '<a target=\"_blank\" href=https://colab.research.google.com/notebooks/data_table.ipynb>data table notebook</a>'\n",
              "            + ' to learn more about interactive tables.';\n",
              "          element.innerHTML = '';\n",
              "          dataTable['output_type'] = 'display_data';\n",
              "          await google.colab.output.renderOutput(dataTable, element);\n",
              "          const docLink = document.createElement('div');\n",
              "          docLink.innerHTML = docLinkHtml;\n",
              "          element.appendChild(docLink);\n",
              "        }\n",
              "      </script>\n",
              "    </div>\n",
              "  </div>\n",
              "  "
            ]
          },
          "metadata": {},
          "execution_count": 89
        }
      ]
    },
    {
      "cell_type": "code",
      "source": [
        "x_treino = treino.loc[:, ['consumo']].values\n",
        "y_treino = treino.loc[:, ['target']].values\n",
        "x_validacao = validacao.loc[:, ['consumo']].values\n",
        "y_validacao = validacao.loc[:, ['target']].values\n",
        "\n",
        "x_treino.shape, y_treino.shape, x_validacao.shape, y_validacao.shape"
      ],
      "metadata": {
        "colab": {
          "base_uri": "https://localhost:8080/",
          "height": 0
        },
        "id": "xlvbj6vLTY6v",
        "outputId": "68d74ac0-357b-4e6e-e3a3-96e422c64e25"
      },
      "execution_count": 90,
      "outputs": [
        {
          "output_type": "execute_result",
          "data": {
            "text/plain": [
              "((383, 1), (383, 1), (12, 1), (12, 1))"
            ]
          },
          "metadata": {},
          "execution_count": 90
        }
      ]
    },
    {
      "cell_type": "code",
      "source": [
        "modelo_xgb = XGBRegressor(objective = 'reg:squarederror', n_estimators = 1000)\n",
        "modelo_xgb.fit(x_treino, y_treino)"
      ],
      "metadata": {
        "colab": {
          "base_uri": "https://localhost:8080/",
          "height": 0
        },
        "id": "pOCyLAnTUnv4",
        "outputId": "6e2e465f-7b5a-4150-c130-a13cb856f388"
      },
      "execution_count": 93,
      "outputs": [
        {
          "output_type": "execute_result",
          "data": {
            "text/plain": [
              "XGBRegressor(n_estimators=1000, objective='reg:squarederror')"
            ]
          },
          "metadata": {},
          "execution_count": 93
        }
      ]
    },
    {
      "cell_type": "code",
      "source": [
        "validacao.iloc[0]"
      ],
      "metadata": {
        "colab": {
          "base_uri": "https://localhost:8080/",
          "height": 0
        },
        "id": "XhQJXW3QVni9",
        "outputId": "8fc3b9de-e3b0-4be1-84ad-7a55ab18bc79"
      },
      "execution_count": 94,
      "outputs": [
        {
          "output_type": "execute_result",
          "data": {
            "text/plain": [
              "consumo    114.8505\n",
              "target      99.4901\n",
              "Name: 2017-01-01 00:00:00, dtype: float64"
            ]
          },
          "metadata": {},
          "execution_count": 94
        }
      ]
    },
    {
      "cell_type": "code",
      "source": [
        "predicao = modelo_xgb.predict([x_validacao[0]])\n",
        "predicao"
      ],
      "metadata": {
        "colab": {
          "base_uri": "https://localhost:8080/",
          "height": 0
        },
        "id": "5nEZOUWYVsrD",
        "outputId": "2f4b53b4-392d-47d6-9e28-e97485f184db"
      },
      "execution_count": 96,
      "outputs": [
        {
          "output_type": "execute_result",
          "data": {
            "text/plain": [
              "array([108.510956], dtype=float32)"
            ]
          },
          "metadata": {},
          "execution_count": 96
        }
      ]
    },
    {
      "cell_type": "code",
      "source": [
        "y_validacao[0]"
      ],
      "metadata": {
        "colab": {
          "base_uri": "https://localhost:8080/",
          "height": 0
        },
        "id": "DVOimpLtXTH2",
        "outputId": "544c02bb-31c8-4090-e352-33e8ade41f33"
      },
      "execution_count": 97,
      "outputs": [
        {
          "output_type": "execute_result",
          "data": {
            "text/plain": [
              "array([99.4901])"
            ]
          },
          "metadata": {},
          "execution_count": 97
        }
      ]
    },
    {
      "cell_type": "markdown",
      "source": [
        "O modelo foi criado para prever dia a dia. Veja que se fosse para 12 dias seria necessário fazer dia após dia, ou seja, nessa parte seria  necessário fazer nesta parte abaixo, 1 a 1: \n",
        "\n",
        "Se fosse 2 dias teriamos que fazer no código -2.\n",
        "\n",
        "![image.png](data:image/png;base64,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)"
      ],
      "metadata": {
        "id": "cMs0MSHGYQNS"
      }
    },
    {
      "cell_type": "markdown",
      "source": [
        "\n",
        "\n",
        "---\n",
        "\n"
      ],
      "metadata": {
        "id": "cTY4DgYVcZr5"
      }
    }
  ]
}